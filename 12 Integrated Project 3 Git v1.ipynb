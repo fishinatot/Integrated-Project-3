{
 "cells": [
  {
   "cell_type": "markdown",
   "id": "84bafae0",
   "metadata": {},
   "source": [
    "# integrated project 3"
   ]
  },
  {
   "cell_type": "markdown",
   "id": "c2dd5f31",
   "metadata": {},
   "source": [
    "Prepare a prototype of a machine learning model for Zyfra. \n",
    "The company develops efficiency solutions for heavy industry.\n",
    "\n",
    "The model should predict the amount of gold recovered from gold ore.\n",
    "You have the data on extraction and purification.\n",
    "\n",
    "The model will help to optimize the production and eliminate unprofitable parameters."
   ]
  },
  {
   "cell_type": "markdown",
   "id": "93b2543c",
   "metadata": {},
   "source": [
    "## imports\n",
    "importing libraries and functions:"
   ]
  },
  {
   "cell_type": "code",
   "execution_count": 1,
   "id": "e487ac43",
   "metadata": {},
   "outputs": [],
   "source": [
    "import pandas as pd\n",
    "import numpy as np\n",
    "from sklearn import metrics\n",
    "#from sklearn.preprocessing import LabelEncoder\n",
    "#from sklearn import svm\n",
    "#from sklearn.neighbors import KNeighborsClassifier\n",
    "from sklearn.tree import DecisionTreeClassifier\n",
    "from sklearn.metrics import accuracy_score\n",
    "from sklearn.model_selection import train_test_split, cross_val_score\n",
    "from sklearn.metrics import make_scorer\n",
    "from sklearn.ensemble import RandomForestClassifier\n",
    "from sklearn.ensemble import RandomForestRegressor\n",
    "from sklearn.linear_model import LogisticRegression\n",
    "from sklearn.metrics import mean_squared_error\n",
    "#from sklearn.metrics import recall_score\n",
    "#from sklearn.metrics import precision_score\n",
    "#from sklearn.metrics import f1_score\n",
    "from sklearn.preprocessing import StandardScaler\n",
    "#from sklearn.preprocessing import OrdinalEncoder\n",
    "from sklearn.utils import shuffle\n",
    "#from sklearn.metrics import confusion_matrix\n",
    "#import seaborn as sns\n",
    "#import sidetable as stb\n",
    "#import matplotlib.pyplot as plt\n",
    "#from sklearn.metrics import f1_score\n",
    "#from sklearn.metrics import roc_auc_score\n",
    "from sklearn.linear_model import LinearRegression\n",
    "from sklearn.metrics import mean_absolute_error\n",
    "import matplotlib.pyplot as plt\n",
    "import seaborn as sns\n",
    "import itertools"
   ]
  },
  {
   "cell_type": "markdown",
   "id": "73c94e07",
   "metadata": {},
   "source": [
    "# preparing the data"
   ]
  },
  {
   "cell_type": "code",
   "execution_count": 2,
   "id": "7083271f",
   "metadata": {},
   "outputs": [
    {
     "name": "stdout",
     "output_type": "stream",
     "text": [
      "                  date  final.output.concentrate_ag  \\\n",
      "0  2016-01-15 00:00:00                     6.055403   \n",
      "1  2016-01-15 01:00:00                     6.029369   \n",
      "2  2016-01-15 02:00:00                     6.055926   \n",
      "3  2016-01-15 03:00:00                     6.047977   \n",
      "4  2016-01-15 04:00:00                     6.148599   \n",
      "\n",
      "   final.output.concentrate_pb  final.output.concentrate_sol  \\\n",
      "0                     9.889648                      5.507324   \n",
      "1                     9.968944                      5.257781   \n",
      "2                    10.213995                      5.383759   \n",
      "3                     9.977019                      4.858634   \n",
      "4                    10.142511                      4.939416   \n",
      "\n",
      "   final.output.concentrate_au  final.output.recovery  final.output.tail_ag  \\\n",
      "0                    42.192020              70.541216             10.411962   \n",
      "1                    42.701629              69.266198             10.462676   \n",
      "2                    42.657501              68.116445             10.507046   \n",
      "3                    42.689819              68.347543             10.422762   \n",
      "4                    42.774141              66.927016             10.360302   \n",
      "\n",
      "   final.output.tail_pb  final.output.tail_sol  final.output.tail_au  ...  \\\n",
      "0              0.895447              16.904297              2.143149  ...   \n",
      "1              0.927452              16.634514              2.224930  ...   \n",
      "2              0.953716              16.208849              2.257889  ...   \n",
      "3              0.883763              16.532835              2.146849  ...   \n",
      "4              0.792826              16.525686              2.055292  ...   \n",
      "\n",
      "   secondary_cleaner.state.floatbank4_a_air  \\\n",
      "0                                 14.016835   \n",
      "1                                 13.992281   \n",
      "2                                 14.015015   \n",
      "3                                 14.036510   \n",
      "4                                 14.027298   \n",
      "\n",
      "   secondary_cleaner.state.floatbank4_a_level  \\\n",
      "0                                 -502.488007   \n",
      "1                                 -505.503262   \n",
      "2                                 -502.520901   \n",
      "3                                 -500.857308   \n",
      "4                                 -499.838632   \n",
      "\n",
      "   secondary_cleaner.state.floatbank4_b_air  \\\n",
      "0                                 12.099931   \n",
      "1                                 11.950531   \n",
      "2                                 11.912783   \n",
      "3                                 11.999550   \n",
      "4                                 11.953070   \n",
      "\n",
      "   secondary_cleaner.state.floatbank4_b_level  \\\n",
      "0                                 -504.715942   \n",
      "1                                 -501.331529   \n",
      "2                                 -501.133383   \n",
      "3                                 -501.193686   \n",
      "4                                 -501.053894   \n",
      "\n",
      "   secondary_cleaner.state.floatbank5_a_air  \\\n",
      "0                                  9.925633   \n",
      "1                                 10.039245   \n",
      "2                                 10.070913   \n",
      "3                                  9.970366   \n",
      "4                                  9.925709   \n",
      "\n",
      "   secondary_cleaner.state.floatbank5_a_level  \\\n",
      "0                                 -498.310211   \n",
      "1                                 -500.169983   \n",
      "2                                 -500.129135   \n",
      "3                                 -499.201640   \n",
      "4                                 -501.686727   \n",
      "\n",
      "   secondary_cleaner.state.floatbank5_b_air  \\\n",
      "0                                  8.079666   \n",
      "1                                  7.984757   \n",
      "2                                  8.013877   \n",
      "3                                  7.977324   \n",
      "4                                  7.894242   \n",
      "\n",
      "   secondary_cleaner.state.floatbank5_b_level  \\\n",
      "0                                 -500.470978   \n",
      "1                                 -500.582168   \n",
      "2                                 -500.517572   \n",
      "3                                 -500.255908   \n",
      "4                                 -500.356035   \n",
      "\n",
      "   secondary_cleaner.state.floatbank6_a_air  \\\n",
      "0                                 14.151341   \n",
      "1                                 13.998353   \n",
      "2                                 14.028663   \n",
      "3                                 14.005551   \n",
      "4                                 13.996647   \n",
      "\n",
      "   secondary_cleaner.state.floatbank6_a_level  \n",
      "0                                 -605.841980  \n",
      "1                                 -599.787184  \n",
      "2                                 -601.427363  \n",
      "3                                 -599.996129  \n",
      "4                                 -601.496691  \n",
      "\n",
      "[5 rows x 87 columns] **************************************************\n",
      "                  date  primary_cleaner.input.sulfate  \\\n",
      "0  2016-09-01 00:59:59                     210.800909   \n",
      "1  2016-09-01 01:59:59                     215.392455   \n",
      "2  2016-09-01 02:59:59                     215.259946   \n",
      "3  2016-09-01 03:59:59                     215.336236   \n",
      "4  2016-09-01 04:59:59                     199.099327   \n",
      "\n",
      "   primary_cleaner.input.depressant  primary_cleaner.input.feed_size  \\\n",
      "0                         14.993118                         8.080000   \n",
      "1                         14.987471                         8.080000   \n",
      "2                         12.884934                         7.786667   \n",
      "3                         12.006805                         7.640000   \n",
      "4                         10.682530                         7.530000   \n",
      "\n",
      "   primary_cleaner.input.xanthate  primary_cleaner.state.floatbank8_a_air  \\\n",
      "0                        1.005021                             1398.981301   \n",
      "1                        0.990469                             1398.777912   \n",
      "2                        0.996043                             1398.493666   \n",
      "3                        0.863514                             1399.618111   \n",
      "4                        0.805575                             1401.268123   \n",
      "\n",
      "   primary_cleaner.state.floatbank8_a_level  \\\n",
      "0                               -500.225577   \n",
      "1                               -500.057435   \n",
      "2                               -500.868360   \n",
      "3                               -498.863574   \n",
      "4                               -500.808305   \n",
      "\n",
      "   primary_cleaner.state.floatbank8_b_air  \\\n",
      "0                             1399.144926   \n",
      "1                             1398.055362   \n",
      "2                             1398.860436   \n",
      "3                             1397.440120   \n",
      "4                             1398.128818   \n",
      "\n",
      "   primary_cleaner.state.floatbank8_b_level  \\\n",
      "0                               -499.919735   \n",
      "1                               -499.778182   \n",
      "2                               -499.764529   \n",
      "3                               -499.211024   \n",
      "4                               -499.504543   \n",
      "\n",
      "   primary_cleaner.state.floatbank8_c_air  ...  \\\n",
      "0                             1400.102998  ...   \n",
      "1                             1396.151033  ...   \n",
      "2                             1398.075709  ...   \n",
      "3                             1400.129303  ...   \n",
      "4                             1402.172226  ...   \n",
      "\n",
      "   secondary_cleaner.state.floatbank4_a_air  \\\n",
      "0                                 12.023554   \n",
      "1                                 12.058140   \n",
      "2                                 11.962366   \n",
      "3                                 12.033091   \n",
      "4                                 12.025367   \n",
      "\n",
      "   secondary_cleaner.state.floatbank4_a_level  \\\n",
      "0                                 -497.795834   \n",
      "1                                 -498.695773   \n",
      "2                                 -498.767484   \n",
      "3                                 -498.350935   \n",
      "4                                 -500.786497   \n",
      "\n",
      "   secondary_cleaner.state.floatbank4_b_air  \\\n",
      "0                                  8.016656   \n",
      "1                                  8.130979   \n",
      "2                                  8.096893   \n",
      "3                                  8.074946   \n",
      "4                                  8.054678   \n",
      "\n",
      "   secondary_cleaner.state.floatbank4_b_level  \\\n",
      "0                                 -501.289139   \n",
      "1                                 -499.634209   \n",
      "2                                 -500.827423   \n",
      "3                                 -499.474407   \n",
      "4                                 -500.397500   \n",
      "\n",
      "   secondary_cleaner.state.floatbank5_a_air  \\\n",
      "0                                  7.946562   \n",
      "1                                  7.958270   \n",
      "2                                  8.071056   \n",
      "3                                  7.897085   \n",
      "4                                  8.107890   \n",
      "\n",
      "   secondary_cleaner.state.floatbank5_a_level  \\\n",
      "0                                 -432.317850   \n",
      "1                                 -525.839648   \n",
      "2                                 -500.801673   \n",
      "3                                 -500.868509   \n",
      "4                                 -509.526725   \n",
      "\n",
      "   secondary_cleaner.state.floatbank5_b_air  \\\n",
      "0                                  4.872511   \n",
      "1                                  4.878850   \n",
      "2                                  4.905125   \n",
      "3                                  4.931400   \n",
      "4                                  4.957674   \n",
      "\n",
      "   secondary_cleaner.state.floatbank5_b_level  \\\n",
      "0                                 -500.037437   \n",
      "1                                 -500.162375   \n",
      "2                                 -499.828510   \n",
      "3                                 -499.963623   \n",
      "4                                 -500.360026   \n",
      "\n",
      "   secondary_cleaner.state.floatbank6_a_air  \\\n",
      "0                                 26.705889   \n",
      "1                                 25.019940   \n",
      "2                                 24.994862   \n",
      "3                                 24.948919   \n",
      "4                                 25.003331   \n",
      "\n",
      "   secondary_cleaner.state.floatbank6_a_level  \n",
      "0                                 -499.709414  \n",
      "1                                 -499.819438  \n",
      "2                                 -500.622559  \n",
      "3                                 -498.709987  \n",
      "4                                 -500.856333  \n",
      "\n",
      "[5 rows x 53 columns] **************************************************\n",
      "                  date  final.output.concentrate_ag  \\\n",
      "0  2016-01-15 00:00:00                     6.055403   \n",
      "1  2016-01-15 01:00:00                     6.029369   \n",
      "2  2016-01-15 02:00:00                     6.055926   \n",
      "3  2016-01-15 03:00:00                     6.047977   \n",
      "4  2016-01-15 04:00:00                     6.148599   \n",
      "\n",
      "   final.output.concentrate_pb  final.output.concentrate_sol  \\\n",
      "0                     9.889648                      5.507324   \n",
      "1                     9.968944                      5.257781   \n",
      "2                    10.213995                      5.383759   \n",
      "3                     9.977019                      4.858634   \n",
      "4                    10.142511                      4.939416   \n",
      "\n",
      "   final.output.concentrate_au  final.output.recovery  final.output.tail_ag  \\\n",
      "0                    42.192020              70.541216             10.411962   \n",
      "1                    42.701629              69.266198             10.462676   \n",
      "2                    42.657501              68.116445             10.507046   \n",
      "3                    42.689819              68.347543             10.422762   \n",
      "4                    42.774141              66.927016             10.360302   \n",
      "\n",
      "   final.output.tail_pb  final.output.tail_sol  final.output.tail_au  ...  \\\n",
      "0              0.895447              16.904297              2.143149  ...   \n",
      "1              0.927452              16.634514              2.224930  ...   \n",
      "2              0.953716              16.208849              2.257889  ...   \n",
      "3              0.883763              16.532835              2.146849  ...   \n",
      "4              0.792826              16.525686              2.055292  ...   \n",
      "\n",
      "   secondary_cleaner.state.floatbank4_a_air  \\\n",
      "0                                 14.016835   \n",
      "1                                 13.992281   \n",
      "2                                 14.015015   \n",
      "3                                 14.036510   \n",
      "4                                 14.027298   \n",
      "\n",
      "   secondary_cleaner.state.floatbank4_a_level  \\\n",
      "0                                 -502.488007   \n",
      "1                                 -505.503262   \n",
      "2                                 -502.520901   \n",
      "3                                 -500.857308   \n",
      "4                                 -499.838632   \n",
      "\n",
      "   secondary_cleaner.state.floatbank4_b_air  \\\n",
      "0                                 12.099931   \n",
      "1                                 11.950531   \n",
      "2                                 11.912783   \n",
      "3                                 11.999550   \n",
      "4                                 11.953070   \n",
      "\n",
      "   secondary_cleaner.state.floatbank4_b_level  \\\n",
      "0                                 -504.715942   \n",
      "1                                 -501.331529   \n",
      "2                                 -501.133383   \n",
      "3                                 -501.193686   \n",
      "4                                 -501.053894   \n",
      "\n",
      "   secondary_cleaner.state.floatbank5_a_air  \\\n",
      "0                                  9.925633   \n",
      "1                                 10.039245   \n",
      "2                                 10.070913   \n",
      "3                                  9.970366   \n",
      "4                                  9.925709   \n",
      "\n",
      "   secondary_cleaner.state.floatbank5_a_level  \\\n",
      "0                                 -498.310211   \n",
      "1                                 -500.169983   \n",
      "2                                 -500.129135   \n",
      "3                                 -499.201640   \n",
      "4                                 -501.686727   \n",
      "\n",
      "   secondary_cleaner.state.floatbank5_b_air  \\\n",
      "0                                  8.079666   \n",
      "1                                  7.984757   \n",
      "2                                  8.013877   \n",
      "3                                  7.977324   \n",
      "4                                  7.894242   \n",
      "\n",
      "   secondary_cleaner.state.floatbank5_b_level  \\\n",
      "0                                 -500.470978   \n",
      "1                                 -500.582168   \n",
      "2                                 -500.517572   \n",
      "3                                 -500.255908   \n",
      "4                                 -500.356035   \n",
      "\n",
      "   secondary_cleaner.state.floatbank6_a_air  \\\n",
      "0                                 14.151341   \n",
      "1                                 13.998353   \n",
      "2                                 14.028663   \n",
      "3                                 14.005551   \n",
      "4                                 13.996647   \n",
      "\n",
      "   secondary_cleaner.state.floatbank6_a_level  \n",
      "0                                 -605.841980  \n",
      "1                                 -599.787184  \n",
      "2                                 -601.427363  \n",
      "3                                 -599.996129  \n",
      "4                                 -601.496691  \n",
      "\n",
      "[5 rows x 87 columns] **************************************************\n"
     ]
    }
   ],
   "source": [
    "try:\n",
    "    \n",
    "    path='C:\\\\Users\\\\aviv\\\\Downloads\\\\gold_recovery_train.csv'\n",
    "    train = pd.read_csv(path)\n",
    "    print(train.head(), '*'*50)\n",
    "    \n",
    "    path='C:\\\\Users\\\\aviv\\\\Downloads\\\\gold_recovery_test.csv'\n",
    "    test = pd.read_csv(path)\n",
    "    print(test.head(), '*'*50)\n",
    "    \n",
    "    path='C:\\\\Users\\\\aviv\\\\Downloads\\\\gold_recovery_full.csv'\n",
    "    full = pd.read_csv(path)\n",
    "    print(full.head(), '*'*50)\n",
    "\n",
    "    \n",
    "except:\n",
    "    path = '/datasets/gold_recovery_train.csv'\n",
    "    train = pd.read_csv(path)\n",
    "    print(train.head(), '*'*50)\n",
    "    \n",
    "    path = '/datasets/gold_recovery_test.csv'\n",
    "    test = pd.read_csv(path)\n",
    "    print(test.head(), '*'*50)\n",
    "    \n",
    "    path = '/datasets/gold_recovery_full.csv'\n",
    "    full = pd.read_csv(path)\n",
    "    print(full.head(), '*'*50)\n",
    "    \n",
    "\n",
    "    "
   ]
  },
  {
   "cell_type": "code",
   "execution_count": 3,
   "id": "3959f942",
   "metadata": {
    "scrolled": true
   },
   "outputs": [
    {
     "name": "stdout",
     "output_type": "stream",
     "text": [
      "<class 'pandas.core.frame.DataFrame'>\n",
      "RangeIndex: 16860 entries, 0 to 16859\n",
      "Data columns (total 87 columns):\n",
      " #   Column                                              Non-Null Count  Dtype  \n",
      "---  ------                                              --------------  -----  \n",
      " 0   date                                                16860 non-null  object \n",
      " 1   final.output.concentrate_ag                         16788 non-null  float64\n",
      " 2   final.output.concentrate_pb                         16788 non-null  float64\n",
      " 3   final.output.concentrate_sol                        16490 non-null  float64\n",
      " 4   final.output.concentrate_au                         16789 non-null  float64\n",
      " 5   final.output.recovery                               15339 non-null  float64\n",
      " 6   final.output.tail_ag                                16794 non-null  float64\n",
      " 7   final.output.tail_pb                                16677 non-null  float64\n",
      " 8   final.output.tail_sol                               16715 non-null  float64\n",
      " 9   final.output.tail_au                                16794 non-null  float64\n",
      " 10  primary_cleaner.input.sulfate                       15553 non-null  float64\n",
      " 11  primary_cleaner.input.depressant                    15598 non-null  float64\n",
      " 12  primary_cleaner.input.feed_size                     16860 non-null  float64\n",
      " 13  primary_cleaner.input.xanthate                      15875 non-null  float64\n",
      " 14  primary_cleaner.output.concentrate_ag               16778 non-null  float64\n",
      " 15  primary_cleaner.output.concentrate_pb               16502 non-null  float64\n",
      " 16  primary_cleaner.output.concentrate_sol              16224 non-null  float64\n",
      " 17  primary_cleaner.output.concentrate_au               16778 non-null  float64\n",
      " 18  primary_cleaner.output.tail_ag                      16777 non-null  float64\n",
      " 19  primary_cleaner.output.tail_pb                      16761 non-null  float64\n",
      " 20  primary_cleaner.output.tail_sol                     16579 non-null  float64\n",
      " 21  primary_cleaner.output.tail_au                      16777 non-null  float64\n",
      " 22  primary_cleaner.state.floatbank8_a_air              16820 non-null  float64\n",
      " 23  primary_cleaner.state.floatbank8_a_level            16827 non-null  float64\n",
      " 24  primary_cleaner.state.floatbank8_b_air              16820 non-null  float64\n",
      " 25  primary_cleaner.state.floatbank8_b_level            16833 non-null  float64\n",
      " 26  primary_cleaner.state.floatbank8_c_air              16822 non-null  float64\n",
      " 27  primary_cleaner.state.floatbank8_c_level            16833 non-null  float64\n",
      " 28  primary_cleaner.state.floatbank8_d_air              16821 non-null  float64\n",
      " 29  primary_cleaner.state.floatbank8_d_level            16833 non-null  float64\n",
      " 30  rougher.calculation.sulfate_to_au_concentrate       16833 non-null  float64\n",
      " 31  rougher.calculation.floatbank10_sulfate_to_au_feed  16833 non-null  float64\n",
      " 32  rougher.calculation.floatbank11_sulfate_to_au_feed  16833 non-null  float64\n",
      " 33  rougher.calculation.au_pb_ratio                     15618 non-null  float64\n",
      " 34  rougher.input.feed_ag                               16778 non-null  float64\n",
      " 35  rougher.input.feed_pb                               16632 non-null  float64\n",
      " 36  rougher.input.feed_rate                             16347 non-null  float64\n",
      " 37  rougher.input.feed_size                             16443 non-null  float64\n",
      " 38  rougher.input.feed_sol                              16568 non-null  float64\n",
      " 39  rougher.input.feed_au                               16777 non-null  float64\n",
      " 40  rougher.input.floatbank10_sulfate                   15816 non-null  float64\n",
      " 41  rougher.input.floatbank10_xanthate                  16514 non-null  float64\n",
      " 42  rougher.input.floatbank11_sulfate                   16237 non-null  float64\n",
      " 43  rougher.input.floatbank11_xanthate                  14956 non-null  float64\n",
      " 44  rougher.output.concentrate_ag                       16778 non-null  float64\n",
      " 45  rougher.output.concentrate_pb                       16778 non-null  float64\n",
      " 46  rougher.output.concentrate_sol                      16698 non-null  float64\n",
      " 47  rougher.output.concentrate_au                       16778 non-null  float64\n",
      " 48  rougher.output.recovery                             14287 non-null  float64\n",
      " 49  rougher.output.tail_ag                              14610 non-null  float64\n",
      " 50  rougher.output.tail_pb                              16778 non-null  float64\n",
      " 51  rougher.output.tail_sol                             14611 non-null  float64\n",
      " 52  rougher.output.tail_au                              14611 non-null  float64\n",
      " 53  rougher.state.floatbank10_a_air                     16807 non-null  float64\n",
      " 54  rougher.state.floatbank10_a_level                   16807 non-null  float64\n",
      " 55  rougher.state.floatbank10_b_air                     16807 non-null  float64\n",
      " 56  rougher.state.floatbank10_b_level                   16807 non-null  float64\n",
      " 57  rougher.state.floatbank10_c_air                     16807 non-null  float64\n",
      " 58  rougher.state.floatbank10_c_level                   16814 non-null  float64\n",
      " 59  rougher.state.floatbank10_d_air                     16802 non-null  float64\n",
      " 60  rougher.state.floatbank10_d_level                   16809 non-null  float64\n",
      " 61  rougher.state.floatbank10_e_air                     16257 non-null  float64\n",
      " 62  rougher.state.floatbank10_e_level                   16809 non-null  float64\n",
      " 63  rougher.state.floatbank10_f_air                     16802 non-null  float64\n",
      " 64  rougher.state.floatbank10_f_level                   16802 non-null  float64\n",
      " 65  secondary_cleaner.output.tail_ag                    16776 non-null  float64\n",
      " 66  secondary_cleaner.output.tail_pb                    16764 non-null  float64\n",
      " 67  secondary_cleaner.output.tail_sol                   14874 non-null  float64\n",
      " 68  secondary_cleaner.output.tail_au                    16778 non-null  float64\n",
      " 69  secondary_cleaner.state.floatbank2_a_air            16497 non-null  float64\n",
      " 70  secondary_cleaner.state.floatbank2_a_level          16751 non-null  float64\n",
      " 71  secondary_cleaner.state.floatbank2_b_air            16705 non-null  float64\n",
      " 72  secondary_cleaner.state.floatbank2_b_level          16748 non-null  float64\n",
      " 73  secondary_cleaner.state.floatbank3_a_air            16763 non-null  float64\n",
      " 74  secondary_cleaner.state.floatbank3_a_level          16747 non-null  float64\n",
      " 75  secondary_cleaner.state.floatbank3_b_air            16752 non-null  float64\n",
      " 76  secondary_cleaner.state.floatbank3_b_level          16750 non-null  float64\n",
      " 77  secondary_cleaner.state.floatbank4_a_air            16731 non-null  float64\n",
      " 78  secondary_cleaner.state.floatbank4_a_level          16747 non-null  float64\n",
      " 79  secondary_cleaner.state.floatbank4_b_air            16768 non-null  float64\n",
      " 80  secondary_cleaner.state.floatbank4_b_level          16767 non-null  float64\n",
      " 81  secondary_cleaner.state.floatbank5_a_air            16775 non-null  float64\n",
      " 82  secondary_cleaner.state.floatbank5_a_level          16775 non-null  float64\n",
      " 83  secondary_cleaner.state.floatbank5_b_air            16775 non-null  float64\n",
      " 84  secondary_cleaner.state.floatbank5_b_level          16776 non-null  float64\n",
      " 85  secondary_cleaner.state.floatbank6_a_air            16757 non-null  float64\n",
      " 86  secondary_cleaner.state.floatbank6_a_level          16775 non-null  float64\n",
      "dtypes: float64(86), object(1)\n",
      "memory usage: 11.2+ MB\n",
      "None\n",
      "                       date  final.output.concentrate_ag  \\\n",
      "count                 16860                 16788.000000   \n",
      "unique                16860                          NaN   \n",
      "top     2016-01-26 22:00:00                          NaN   \n",
      "freq                      1                          NaN   \n",
      "mean                    NaN                     4.716907   \n",
      "std                     NaN                     2.096718   \n",
      "min                     NaN                     0.000000   \n",
      "25%                     NaN                     3.971262   \n",
      "50%                     NaN                     4.869346   \n",
      "75%                     NaN                     5.821176   \n",
      "max                     NaN                    16.001945   \n",
      "\n",
      "        final.output.concentrate_pb  final.output.concentrate_sol  \\\n",
      "count                  16788.000000                  16490.000000   \n",
      "unique                          NaN                           NaN   \n",
      "top                             NaN                           NaN   \n",
      "freq                            NaN                           NaN   \n",
      "mean                       9.113559                      8.301123   \n",
      "std                        3.389495                      3.825760   \n",
      "min                        0.000000                      0.000000   \n",
      "25%                        8.825748                      6.939185   \n",
      "50%                       10.065316                      8.557228   \n",
      "75%                       11.054809                     10.289741   \n",
      "max                       17.031899                     18.124851   \n",
      "\n",
      "        final.output.concentrate_au  final.output.recovery  \\\n",
      "count                  16789.000000           15339.000000   \n",
      "unique                          NaN                    NaN   \n",
      "top                             NaN                    NaN   \n",
      "freq                            NaN                    NaN   \n",
      "mean                      39.467217              67.213166   \n",
      "std                       13.917227              11.960446   \n",
      "min                        0.000000               0.000000   \n",
      "25%                       42.055722              62.625685   \n",
      "50%                       44.498874              67.644601   \n",
      "75%                       45.976222              72.824595   \n",
      "max                       53.611374             100.000000   \n",
      "\n",
      "        final.output.tail_ag  final.output.tail_pb  final.output.tail_sol  \\\n",
      "count           16794.000000          16677.000000           16715.000000   \n",
      "unique                   NaN                   NaN                    NaN   \n",
      "top                      NaN                   NaN                    NaN   \n",
      "freq                     NaN                   NaN                    NaN   \n",
      "mean                8.757048              2.360327               9.303932   \n",
      "std                 3.634103              1.215576               4.263208   \n",
      "min                 0.000000              0.000000               0.000000   \n",
      "25%                 7.610544              1.641604               7.870275   \n",
      "50%                 9.220393              2.453690              10.021968   \n",
      "75%                10.971110              3.192404              11.648573   \n",
      "max                19.552149              6.086532              22.317730   \n",
      "\n",
      "        final.output.tail_au  ...  secondary_cleaner.state.floatbank4_a_air  \\\n",
      "count           16794.000000  ...                              16731.000000   \n",
      "unique                   NaN  ...                                       NaN   \n",
      "top                      NaN  ...                                       NaN   \n",
      "freq                     NaN  ...                                       NaN   \n",
      "mean                2.687512  ...                                 19.101874   \n",
      "std                 1.272757  ...                                  6.883163   \n",
      "min                 0.000000  ...                                  0.000000   \n",
      "25%                 2.172953  ...                                 14.508299   \n",
      "50%                 2.781132  ...                                 19.986958   \n",
      "75%                 3.416936  ...                                 24.983961   \n",
      "max                 9.789625  ...                                 60.000000   \n",
      "\n",
      "        secondary_cleaner.state.floatbank4_a_level  \\\n",
      "count                                 16747.000000   \n",
      "unique                                         NaN   \n",
      "top                                            NaN   \n",
      "freq                                           NaN   \n",
      "mean                                   -494.164481   \n",
      "std                                      84.803334   \n",
      "min                                    -799.920713   \n",
      "25%                                    -500.837689   \n",
      "50%                                    -499.778379   \n",
      "75%                                    -494.648754   \n",
      "max                                    -127.692333   \n",
      "\n",
      "        secondary_cleaner.state.floatbank4_b_air  \\\n",
      "count                               16768.000000   \n",
      "unique                                       NaN   \n",
      "top                                          NaN   \n",
      "freq                                         NaN   \n",
      "mean                                   14.778164   \n",
      "std                                     5.999149   \n",
      "min                                     0.000000   \n",
      "25%                                    10.741388   \n",
      "50%                                    14.943933   \n",
      "75%                                    20.023751   \n",
      "max                                    28.003828   \n",
      "\n",
      "        secondary_cleaner.state.floatbank4_b_level  \\\n",
      "count                                 16767.000000   \n",
      "unique                                         NaN   \n",
      "top                                            NaN   \n",
      "freq                                           NaN   \n",
      "mean                                   -476.600082   \n",
      "std                                      89.381172   \n",
      "min                                    -800.021781   \n",
      "25%                                    -500.269182   \n",
      "50%                                    -499.593286   \n",
      "75%                                    -400.137948   \n",
      "max                                     -71.472472   \n",
      "\n",
      "        secondary_cleaner.state.floatbank5_a_air  \\\n",
      "count                               16775.000000   \n",
      "unique                                       NaN   \n",
      "top                                          NaN   \n",
      "freq                                         NaN   \n",
      "mean                                   15.779488   \n",
      "std                                     6.834703   \n",
      "min                                    -0.423260   \n",
      "25%                                    10.977713   \n",
      "50%                                    15.998340   \n",
      "75%                                    20.000701   \n",
      "max                                    63.116298   \n",
      "\n",
      "        secondary_cleaner.state.floatbank5_a_level  \\\n",
      "count                                 16775.000000   \n",
      "unique                                         NaN   \n",
      "top                                            NaN   \n",
      "freq                                           NaN   \n",
      "mean                                   -500.230146   \n",
      "std                                      76.983542   \n",
      "min                                    -799.741097   \n",
      "25%                                    -500.530594   \n",
      "50%                                    -499.784231   \n",
      "75%                                    -496.531781   \n",
      "max                                    -275.073125   \n",
      "\n",
      "        secondary_cleaner.state.floatbank5_b_air  \\\n",
      "count                               16775.000000   \n",
      "unique                                       NaN   \n",
      "top                                          NaN   \n",
      "freq                                         NaN   \n",
      "mean                                   12.377241   \n",
      "std                                     6.219989   \n",
      "min                                     0.427084   \n",
      "25%                                     8.925586   \n",
      "50%                                    11.092839   \n",
      "75%                                    15.979467   \n",
      "max                                    39.846228   \n",
      "\n",
      "        secondary_cleaner.state.floatbank5_b_level  \\\n",
      "count                                 16776.000000   \n",
      "unique                                         NaN   \n",
      "top                                            NaN   \n",
      "freq                                           NaN   \n",
      "mean                                   -498.956257   \n",
      "std                                      82.146207   \n",
      "min                                    -800.258209   \n",
      "25%                                    -500.147603   \n",
      "50%                                    -499.933330   \n",
      "75%                                    -498.418000   \n",
      "max                                    -120.190931   \n",
      "\n",
      "        secondary_cleaner.state.floatbank6_a_air  \\\n",
      "count                               16757.000000   \n",
      "unique                                       NaN   \n",
      "top                                          NaN   \n",
      "freq                                         NaN   \n",
      "mean                                   18.429208   \n",
      "std                                     6.958294   \n",
      "min                                     0.024270   \n",
      "25%                                    13.977626   \n",
      "50%                                    18.034960   \n",
      "75%                                    24.984992   \n",
      "max                                    54.876806   \n",
      "\n",
      "        secondary_cleaner.state.floatbank6_a_level  \n",
      "count                                 16775.000000  \n",
      "unique                                         NaN  \n",
      "top                                            NaN  \n",
      "freq                                           NaN  \n",
      "mean                                   -521.801826  \n",
      "std                                      77.170888  \n",
      "min                                    -810.473526  \n",
      "25%                                    -501.080595  \n",
      "50%                                    -500.109898  \n",
      "75%                                    -499.565540  \n",
      "max                                     -39.784927  \n",
      "\n",
      "[11 rows x 87 columns]\n",
      "<class 'pandas.core.frame.DataFrame'>\n",
      "RangeIndex: 5856 entries, 0 to 5855\n",
      "Data columns (total 53 columns):\n",
      " #   Column                                      Non-Null Count  Dtype  \n",
      "---  ------                                      --------------  -----  \n",
      " 0   date                                        5856 non-null   object \n",
      " 1   primary_cleaner.input.sulfate               5554 non-null   float64\n",
      " 2   primary_cleaner.input.depressant            5572 non-null   float64\n",
      " 3   primary_cleaner.input.feed_size             5856 non-null   float64\n",
      " 4   primary_cleaner.input.xanthate              5690 non-null   float64\n",
      " 5   primary_cleaner.state.floatbank8_a_air      5840 non-null   float64\n",
      " 6   primary_cleaner.state.floatbank8_a_level    5840 non-null   float64\n",
      " 7   primary_cleaner.state.floatbank8_b_air      5840 non-null   float64\n",
      " 8   primary_cleaner.state.floatbank8_b_level    5840 non-null   float64\n",
      " 9   primary_cleaner.state.floatbank8_c_air      5840 non-null   float64\n",
      " 10  primary_cleaner.state.floatbank8_c_level    5840 non-null   float64\n",
      " 11  primary_cleaner.state.floatbank8_d_air      5840 non-null   float64\n",
      " 12  primary_cleaner.state.floatbank8_d_level    5840 non-null   float64\n",
      " 13  rougher.input.feed_ag                       5840 non-null   float64\n",
      " 14  rougher.input.feed_pb                       5840 non-null   float64\n",
      " 15  rougher.input.feed_rate                     5816 non-null   float64\n",
      " 16  rougher.input.feed_size                     5834 non-null   float64\n",
      " 17  rougher.input.feed_sol                      5789 non-null   float64\n",
      " 18  rougher.input.feed_au                       5840 non-null   float64\n",
      " 19  rougher.input.floatbank10_sulfate           5599 non-null   float64\n",
      " 20  rougher.input.floatbank10_xanthate          5733 non-null   float64\n",
      " 21  rougher.input.floatbank11_sulfate           5801 non-null   float64\n",
      " 22  rougher.input.floatbank11_xanthate          5503 non-null   float64\n",
      " 23  rougher.state.floatbank10_a_air             5839 non-null   float64\n",
      " 24  rougher.state.floatbank10_a_level           5840 non-null   float64\n",
      " 25  rougher.state.floatbank10_b_air             5839 non-null   float64\n",
      " 26  rougher.state.floatbank10_b_level           5840 non-null   float64\n",
      " 27  rougher.state.floatbank10_c_air             5839 non-null   float64\n",
      " 28  rougher.state.floatbank10_c_level           5840 non-null   float64\n",
      " 29  rougher.state.floatbank10_d_air             5839 non-null   float64\n",
      " 30  rougher.state.floatbank10_d_level           5840 non-null   float64\n",
      " 31  rougher.state.floatbank10_e_air             5839 non-null   float64\n",
      " 32  rougher.state.floatbank10_e_level           5840 non-null   float64\n",
      " 33  rougher.state.floatbank10_f_air             5839 non-null   float64\n",
      " 34  rougher.state.floatbank10_f_level           5840 non-null   float64\n",
      " 35  secondary_cleaner.state.floatbank2_a_air    5836 non-null   float64\n",
      " 36  secondary_cleaner.state.floatbank2_a_level  5840 non-null   float64\n",
      " 37  secondary_cleaner.state.floatbank2_b_air    5833 non-null   float64\n",
      " 38  secondary_cleaner.state.floatbank2_b_level  5840 non-null   float64\n",
      " 39  secondary_cleaner.state.floatbank3_a_air    5822 non-null   float64\n",
      " 40  secondary_cleaner.state.floatbank3_a_level  5840 non-null   float64\n",
      " 41  secondary_cleaner.state.floatbank3_b_air    5840 non-null   float64\n",
      " 42  secondary_cleaner.state.floatbank3_b_level  5840 non-null   float64\n",
      " 43  secondary_cleaner.state.floatbank4_a_air    5840 non-null   float64\n",
      " 44  secondary_cleaner.state.floatbank4_a_level  5840 non-null   float64\n",
      " 45  secondary_cleaner.state.floatbank4_b_air    5840 non-null   float64\n",
      " 46  secondary_cleaner.state.floatbank4_b_level  5840 non-null   float64\n",
      " 47  secondary_cleaner.state.floatbank5_a_air    5840 non-null   float64\n",
      " 48  secondary_cleaner.state.floatbank5_a_level  5840 non-null   float64\n",
      " 49  secondary_cleaner.state.floatbank5_b_air    5840 non-null   float64\n",
      " 50  secondary_cleaner.state.floatbank5_b_level  5840 non-null   float64\n",
      " 51  secondary_cleaner.state.floatbank6_a_air    5840 non-null   float64\n",
      " 52  secondary_cleaner.state.floatbank6_a_level  5840 non-null   float64\n",
      "dtypes: float64(52), object(1)\n",
      "memory usage: 2.4+ MB\n",
      "None\n",
      "                       date  primary_cleaner.input.sulfate  \\\n",
      "count                  5856                    5554.000000   \n",
      "unique                 5856                            NaN   \n",
      "top     2017-12-10 16:59:59                            NaN   \n",
      "freq                      1                            NaN   \n",
      "mean                    NaN                     170.515243   \n",
      "std                     NaN                      49.608602   \n",
      "min                     NaN                       0.000103   \n",
      "25%                     NaN                     143.340022   \n",
      "50%                     NaN                     176.103893   \n",
      "75%                     NaN                     207.240761   \n",
      "max                     NaN                     274.409626   \n",
      "\n",
      "        primary_cleaner.input.depressant  primary_cleaner.input.feed_size  \\\n",
      "count                        5572.000000                      5856.000000   \n",
      "unique                               NaN                              NaN   \n",
      "top                                  NaN                              NaN   \n",
      "freq                                 NaN                              NaN   \n",
      "mean                            8.482873                         7.264651   \n",
      "std                             3.353105                         0.611526   \n",
      "min                             0.000031                         5.650000   \n",
      "25%                             6.411500                         6.885625   \n",
      "50%                             8.023252                         7.259333   \n",
      "75%                            10.017725                         7.650000   \n",
      "max                            40.024582                        15.500000   \n",
      "\n",
      "        primary_cleaner.input.xanthate  \\\n",
      "count                      5690.000000   \n",
      "unique                             NaN   \n",
      "top                                NaN   \n",
      "freq                               NaN   \n",
      "mean                          1.321420   \n",
      "std                           0.693246   \n",
      "min                           0.000003   \n",
      "25%                           0.888769   \n",
      "50%                           1.183362   \n",
      "75%                           1.763797   \n",
      "max                           5.433169   \n",
      "\n",
      "        primary_cleaner.state.floatbank8_a_air  \\\n",
      "count                              5840.000000   \n",
      "unique                                     NaN   \n",
      "top                                        NaN   \n",
      "freq                                       NaN   \n",
      "mean                               1481.990241   \n",
      "std                                 310.453166   \n",
      "min                                   0.000000   \n",
      "25%                                1497.190681   \n",
      "50%                                1554.659783   \n",
      "75%                                1601.681656   \n",
      "max                                2212.432090   \n",
      "\n",
      "        primary_cleaner.state.floatbank8_a_level  \\\n",
      "count                                5840.000000   \n",
      "unique                                       NaN   \n",
      "top                                          NaN   \n",
      "freq                                         NaN   \n",
      "mean                                 -509.057796   \n",
      "std                                    61.339256   \n",
      "min                                  -799.773788   \n",
      "25%                                  -500.455211   \n",
      "50%                                  -499.997402   \n",
      "75%                                  -499.575313   \n",
      "max                                   -57.195404   \n",
      "\n",
      "        primary_cleaner.state.floatbank8_b_air  \\\n",
      "count                              5840.000000   \n",
      "unique                                     NaN   \n",
      "top                                        NaN   \n",
      "freq                                       NaN   \n",
      "mean                               1486.908670   \n",
      "std                                 313.224286   \n",
      "min                                   0.000000   \n",
      "25%                                1497.150234   \n",
      "50%                                1553.268084   \n",
      "75%                                1601.784707   \n",
      "max                                1975.147923   \n",
      "\n",
      "        primary_cleaner.state.floatbank8_b_level  \\\n",
      "count                                5840.000000   \n",
      "unique                                       NaN   \n",
      "top                                          NaN   \n",
      "freq                                         NaN   \n",
      "mean                                 -511.743956   \n",
      "std                                    67.139074   \n",
      "min                                  -800.029078   \n",
      "25%                                  -500.936639   \n",
      "50%                                  -500.066588   \n",
      "75%                                  -499.323361   \n",
      "max                                  -142.527229   \n",
      "\n",
      "        primary_cleaner.state.floatbank8_c_air  ...  \\\n",
      "count                              5840.000000  ...   \n",
      "unique                                     NaN  ...   \n",
      "top                                        NaN  ...   \n",
      "freq                                       NaN  ...   \n",
      "mean                               1468.495216  ...   \n",
      "std                                 309.980748  ...   \n",
      "min                                   0.000000  ...   \n",
      "25%                                1437.050321  ...   \n",
      "50%                                1546.160672  ...   \n",
      "75%                                1600.785573  ...   \n",
      "max                                1715.053773  ...   \n",
      "\n",
      "        secondary_cleaner.state.floatbank4_a_air  \\\n",
      "count                                5840.000000   \n",
      "unique                                       NaN   \n",
      "top                                          NaN   \n",
      "freq                                         NaN   \n",
      "mean                                   15.636031   \n",
      "std                                     4.660835   \n",
      "min                                     0.000000   \n",
      "25%                                    12.057838   \n",
      "50%                                    17.001867   \n",
      "75%                                    18.030985   \n",
      "max                                    30.051797   \n",
      "\n",
      "        secondary_cleaner.state.floatbank4_a_level  \\\n",
      "count                                  5840.000000   \n",
      "unique                                         NaN   \n",
      "top                                            NaN   \n",
      "freq                                           NaN   \n",
      "mean                                   -516.266074   \n",
      "std                                      62.756748   \n",
      "min                                    -799.798523   \n",
      "25%                                    -501.054741   \n",
      "50%                                    -500.160145   \n",
      "75%                                    -499.441529   \n",
      "max                                    -401.565212   \n",
      "\n",
      "        secondary_cleaner.state.floatbank4_b_air  \\\n",
      "count                                5840.000000   \n",
      "unique                                       NaN   \n",
      "top                                          NaN   \n",
      "freq                                         NaN   \n",
      "mean                                   13.145702   \n",
      "std                                     4.304086   \n",
      "min                                     0.000000   \n",
      "25%                                    11.880119   \n",
      "50%                                    14.952102   \n",
      "75%                                    15.940011   \n",
      "max                                    31.269706   \n",
      "\n",
      "        secondary_cleaner.state.floatbank4_b_level  \\\n",
      "count                                  5840.000000   \n",
      "unique                                         NaN   \n",
      "top                                            NaN   \n",
      "freq                                           NaN   \n",
      "mean                                   -476.338907   \n",
      "std                                     105.549424   \n",
      "min                                    -800.836914   \n",
      "25%                                    -500.419113   \n",
      "50%                                    -499.644328   \n",
      "75%                                    -401.523664   \n",
      "max                                      -6.506986   \n",
      "\n",
      "        secondary_cleaner.state.floatbank5_a_air  \\\n",
      "count                                5840.000000   \n",
      "unique                                       NaN   \n",
      "top                                          NaN   \n",
      "freq                                         NaN   \n",
      "mean                                   12.308967   \n",
      "std                                     3.762827   \n",
      "min                                    -0.223393   \n",
      "25%                                    10.123459   \n",
      "50%                                    12.062877   \n",
      "75%                                    15.017881   \n",
      "max                                    25.258848   \n",
      "\n",
      "        secondary_cleaner.state.floatbank5_a_level  \\\n",
      "count                                  5840.000000   \n",
      "unique                                         NaN   \n",
      "top                                            NaN   \n",
      "freq                                           NaN   \n",
      "mean                                   -512.208126   \n",
      "std                                      58.864651   \n",
      "min                                    -799.661076   \n",
      "25%                                    -500.879383   \n",
      "50%                                    -500.047621   \n",
      "75%                                    -499.297033   \n",
      "max                                    -244.483566   \n",
      "\n",
      "        secondary_cleaner.state.floatbank5_b_air  \\\n",
      "count                                5840.000000   \n",
      "unique                                       NaN   \n",
      "top                                          NaN   \n",
      "freq                                         NaN   \n",
      "mean                                    9.470986   \n",
      "std                                     3.312471   \n",
      "min                                     0.528083   \n",
      "25%                                     7.991208   \n",
      "50%                                     9.980774   \n",
      "75%                                    11.992176   \n",
      "max                                    14.090194   \n",
      "\n",
      "        secondary_cleaner.state.floatbank5_b_level  \\\n",
      "count                                  5840.000000   \n",
      "unique                                         NaN   \n",
      "top                                            NaN   \n",
      "freq                                           NaN   \n",
      "mean                                   -505.017827   \n",
      "std                                      68.785898   \n",
      "min                                    -800.220337   \n",
      "25%                                    -500.223089   \n",
      "50%                                    -500.001338   \n",
      "75%                                    -499.722835   \n",
      "max                                    -126.463446   \n",
      "\n",
      "        secondary_cleaner.state.floatbank6_a_air  \\\n",
      "count                                5840.000000   \n",
      "unique                                       NaN   \n",
      "top                                          NaN   \n",
      "freq                                         NaN   \n",
      "mean                                   16.678722   \n",
      "std                                     5.404514   \n",
      "min                                    -0.079426   \n",
      "25%                                    13.012422   \n",
      "50%                                    16.007242   \n",
      "75%                                    21.009076   \n",
      "max                                    26.705889   \n",
      "\n",
      "        secondary_cleaner.state.floatbank6_a_level  \n",
      "count                                  5840.000000  \n",
      "unique                                         NaN  \n",
      "top                                            NaN  \n",
      "freq                                           NaN  \n",
      "mean                                   -512.351694  \n",
      "std                                      69.919839  \n",
      "min                                    -809.859706  \n",
      "25%                                    -500.833821  \n",
      "50%                                    -500.041085  \n",
      "75%                                    -499.395621  \n",
      "max                                     -29.093593  \n",
      "\n",
      "[11 rows x 53 columns]\n",
      "<class 'pandas.core.frame.DataFrame'>\n",
      "RangeIndex: 22716 entries, 0 to 22715\n",
      "Data columns (total 87 columns):\n",
      " #   Column                                              Non-Null Count  Dtype  \n",
      "---  ------                                              --------------  -----  \n",
      " 0   date                                                22716 non-null  object \n",
      " 1   final.output.concentrate_ag                         22627 non-null  float64\n",
      " 2   final.output.concentrate_pb                         22629 non-null  float64\n",
      " 3   final.output.concentrate_sol                        22331 non-null  float64\n",
      " 4   final.output.concentrate_au                         22630 non-null  float64\n",
      " 5   final.output.recovery                               20753 non-null  float64\n",
      " 6   final.output.tail_ag                                22633 non-null  float64\n",
      " 7   final.output.tail_pb                                22516 non-null  float64\n",
      " 8   final.output.tail_sol                               22445 non-null  float64\n",
      " 9   final.output.tail_au                                22635 non-null  float64\n",
      " 10  primary_cleaner.input.sulfate                       21107 non-null  float64\n",
      " 11  primary_cleaner.input.depressant                    21170 non-null  float64\n",
      " 12  primary_cleaner.input.feed_size                     22716 non-null  float64\n",
      " 13  primary_cleaner.input.xanthate                      21565 non-null  float64\n",
      " 14  primary_cleaner.output.concentrate_ag               22618 non-null  float64\n",
      " 15  primary_cleaner.output.concentrate_pb               22268 non-null  float64\n",
      " 16  primary_cleaner.output.concentrate_sol              21918 non-null  float64\n",
      " 17  primary_cleaner.output.concentrate_au               22618 non-null  float64\n",
      " 18  primary_cleaner.output.tail_ag                      22614 non-null  float64\n",
      " 19  primary_cleaner.output.tail_pb                      22594 non-null  float64\n",
      " 20  primary_cleaner.output.tail_sol                     22365 non-null  float64\n",
      " 21  primary_cleaner.output.tail_au                      22617 non-null  float64\n",
      " 22  primary_cleaner.state.floatbank8_a_air              22660 non-null  float64\n",
      " 23  primary_cleaner.state.floatbank8_a_level            22667 non-null  float64\n",
      " 24  primary_cleaner.state.floatbank8_b_air              22660 non-null  float64\n",
      " 25  primary_cleaner.state.floatbank8_b_level            22673 non-null  float64\n",
      " 26  primary_cleaner.state.floatbank8_c_air              22662 non-null  float64\n",
      " 27  primary_cleaner.state.floatbank8_c_level            22673 non-null  float64\n",
      " 28  primary_cleaner.state.floatbank8_d_air              22661 non-null  float64\n",
      " 29  primary_cleaner.state.floatbank8_d_level            22673 non-null  float64\n",
      " 30  rougher.calculation.sulfate_to_au_concentrate       22672 non-null  float64\n",
      " 31  rougher.calculation.floatbank10_sulfate_to_au_feed  22672 non-null  float64\n",
      " 32  rougher.calculation.floatbank11_sulfate_to_au_feed  22672 non-null  float64\n",
      " 33  rougher.calculation.au_pb_ratio                     21089 non-null  float64\n",
      " 34  rougher.input.feed_ag                               22618 non-null  float64\n",
      " 35  rougher.input.feed_pb                               22472 non-null  float64\n",
      " 36  rougher.input.feed_rate                             22163 non-null  float64\n",
      " 37  rougher.input.feed_size                             22277 non-null  float64\n",
      " 38  rougher.input.feed_sol                              22357 non-null  float64\n",
      " 39  rougher.input.feed_au                               22617 non-null  float64\n",
      " 40  rougher.input.floatbank10_sulfate                   21415 non-null  float64\n",
      " 41  rougher.input.floatbank10_xanthate                  22247 non-null  float64\n",
      " 42  rougher.input.floatbank11_sulfate                   22038 non-null  float64\n",
      " 43  rougher.input.floatbank11_xanthate                  20459 non-null  float64\n",
      " 44  rougher.output.concentrate_ag                       22618 non-null  float64\n",
      " 45  rougher.output.concentrate_pb                       22618 non-null  float64\n",
      " 46  rougher.output.concentrate_sol                      22526 non-null  float64\n",
      " 47  rougher.output.concentrate_au                       22618 non-null  float64\n",
      " 48  rougher.output.recovery                             19597 non-null  float64\n",
      " 49  rougher.output.tail_ag                              19979 non-null  float64\n",
      " 50  rougher.output.tail_pb                              22618 non-null  float64\n",
      " 51  rougher.output.tail_sol                             19980 non-null  float64\n",
      " 52  rougher.output.tail_au                              19980 non-null  float64\n",
      " 53  rougher.state.floatbank10_a_air                     22646 non-null  float64\n",
      " 54  rougher.state.floatbank10_a_level                   22647 non-null  float64\n",
      " 55  rougher.state.floatbank10_b_air                     22646 non-null  float64\n",
      " 56  rougher.state.floatbank10_b_level                   22647 non-null  float64\n",
      " 57  rougher.state.floatbank10_c_air                     22646 non-null  float64\n",
      " 58  rougher.state.floatbank10_c_level                   22654 non-null  float64\n",
      " 59  rougher.state.floatbank10_d_air                     22641 non-null  float64\n",
      " 60  rougher.state.floatbank10_d_level                   22649 non-null  float64\n",
      " 61  rougher.state.floatbank10_e_air                     22096 non-null  float64\n",
      " 62  rougher.state.floatbank10_e_level                   22649 non-null  float64\n",
      " 63  rougher.state.floatbank10_f_air                     22641 non-null  float64\n",
      " 64  rougher.state.floatbank10_f_level                   22642 non-null  float64\n",
      " 65  secondary_cleaner.output.tail_ag                    22616 non-null  float64\n",
      " 66  secondary_cleaner.output.tail_pb                    22600 non-null  float64\n",
      " 67  secondary_cleaner.output.tail_sol                   20501 non-null  float64\n",
      " 68  secondary_cleaner.output.tail_au                    22618 non-null  float64\n",
      " 69  secondary_cleaner.state.floatbank2_a_air            22333 non-null  float64\n",
      " 70  secondary_cleaner.state.floatbank2_a_level          22591 non-null  float64\n",
      " 71  secondary_cleaner.state.floatbank2_b_air            22538 non-null  float64\n",
      " 72  secondary_cleaner.state.floatbank2_b_level          22588 non-null  float64\n",
      " 73  secondary_cleaner.state.floatbank3_a_air            22585 non-null  float64\n",
      " 74  secondary_cleaner.state.floatbank3_a_level          22587 non-null  float64\n",
      " 75  secondary_cleaner.state.floatbank3_b_air            22592 non-null  float64\n",
      " 76  secondary_cleaner.state.floatbank3_b_level          22590 non-null  float64\n",
      " 77  secondary_cleaner.state.floatbank4_a_air            22571 non-null  float64\n",
      " 78  secondary_cleaner.state.floatbank4_a_level          22587 non-null  float64\n",
      " 79  secondary_cleaner.state.floatbank4_b_air            22608 non-null  float64\n",
      " 80  secondary_cleaner.state.floatbank4_b_level          22607 non-null  float64\n",
      " 81  secondary_cleaner.state.floatbank5_a_air            22615 non-null  float64\n",
      " 82  secondary_cleaner.state.floatbank5_a_level          22615 non-null  float64\n",
      " 83  secondary_cleaner.state.floatbank5_b_air            22615 non-null  float64\n",
      " 84  secondary_cleaner.state.floatbank5_b_level          22616 non-null  float64\n",
      " 85  secondary_cleaner.state.floatbank6_a_air            22597 non-null  float64\n",
      " 86  secondary_cleaner.state.floatbank6_a_level          22615 non-null  float64\n",
      "dtypes: float64(86), object(1)\n",
      "memory usage: 15.1+ MB\n",
      "None\n",
      "                       date  final.output.concentrate_ag  \\\n",
      "count                 22716                 22627.000000   \n",
      "unique                22716                          NaN   \n",
      "top     2016-01-26 22:00:00                          NaN   \n",
      "freq                      1                          NaN   \n",
      "mean                    NaN                     4.781559   \n",
      "std                     NaN                     2.030128   \n",
      "min                     NaN                     0.000000   \n",
      "25%                     NaN                     4.018525   \n",
      "50%                     NaN                     4.953729   \n",
      "75%                     NaN                     5.862593   \n",
      "max                     NaN                    16.001945   \n",
      "\n",
      "        final.output.concentrate_pb  final.output.concentrate_sol  \\\n",
      "count                  22629.000000                  22331.000000   \n",
      "unique                          NaN                           NaN   \n",
      "top                             NaN                           NaN   \n",
      "freq                            NaN                           NaN   \n",
      "mean                       9.095308                      8.640317   \n",
      "std                        3.230797                      3.785035   \n",
      "min                        0.000000                      0.000000   \n",
      "25%                        8.750171                      7.116799   \n",
      "50%                        9.914519                      8.908792   \n",
      "75%                       10.929839                     10.705824   \n",
      "max                       17.031899                     19.615720   \n",
      "\n",
      "        final.output.concentrate_au  final.output.recovery  \\\n",
      "count                  22630.000000           20753.000000   \n",
      "unique                          NaN                    NaN   \n",
      "top                             NaN                    NaN   \n",
      "freq                            NaN                    NaN   \n",
      "mean                      40.001172              67.447488   \n",
      "std                       13.398062              11.616034   \n",
      "min                        0.000000               0.000000   \n",
      "25%                       42.383721              63.282393   \n",
      "50%                       44.653436              68.322258   \n",
      "75%                       46.111999              72.950836   \n",
      "max                       53.611374             100.000000   \n",
      "\n",
      "        final.output.tail_ag  final.output.tail_pb  final.output.tail_sol  \\\n",
      "count           22633.000000          22516.000000           22445.000000   \n",
      "unique                   NaN                   NaN                    NaN   \n",
      "top                      NaN                   NaN                    NaN   \n",
      "freq                     NaN                   NaN                    NaN   \n",
      "mean                8.923690              2.488252               9.523632   \n",
      "std                 3.517917              1.189407               4.079739   \n",
      "min                 0.000000              0.000000               0.000000   \n",
      "25%                 7.684016              1.805376               8.143576   \n",
      "50%                 9.484369              2.653001              10.212998   \n",
      "75%                11.084557              3.287790              11.860824   \n",
      "max                19.552149              6.086532              22.861749   \n",
      "\n",
      "        final.output.tail_au  ...  secondary_cleaner.state.floatbank4_a_air  \\\n",
      "count           22635.000000  ...                              22571.000000   \n",
      "unique                   NaN  ...                                       NaN   \n",
      "top                      NaN  ...                                       NaN   \n",
      "freq                     NaN  ...                                       NaN   \n",
      "mean                2.827459  ...                                 18.205125   \n",
      "std                 1.262834  ...                                  6.560700   \n",
      "min                 0.000000  ...                                  0.000000   \n",
      "25%                 2.303108  ...                                 14.095940   \n",
      "50%                 2.913794  ...                                 18.007326   \n",
      "75%                 3.555077  ...                                 22.998194   \n",
      "max                 9.789625  ...                                 60.000000   \n",
      "\n",
      "        secondary_cleaner.state.floatbank4_a_level  \\\n",
      "count                                 22587.000000   \n",
      "unique                                         NaN   \n",
      "top                                            NaN   \n",
      "freq                                           NaN   \n",
      "mean                                   -499.878977   \n",
      "std                                      80.273964   \n",
      "min                                    -799.920713   \n",
      "25%                                    -500.896232   \n",
      "50%                                    -499.917108   \n",
      "75%                                    -498.361545   \n",
      "max                                    -127.692333   \n",
      "\n",
      "        secondary_cleaner.state.floatbank4_b_air  \\\n",
      "count                               22608.000000   \n",
      "unique                                       NaN   \n",
      "top                                          NaN   \n",
      "freq                                         NaN   \n",
      "mean                                   14.356474   \n",
      "std                                     5.655791   \n",
      "min                                     0.000000   \n",
      "25%                                    10.882675   \n",
      "50%                                    14.947646   \n",
      "75%                                    17.977502   \n",
      "max                                    31.269706   \n",
      "\n",
      "        secondary_cleaner.state.floatbank4_b_level  \\\n",
      "count                                 22607.000000   \n",
      "unique                                         NaN   \n",
      "top                                            NaN   \n",
      "freq                                           NaN   \n",
      "mean                                   -476.532613   \n",
      "std                                      93.822791   \n",
      "min                                    -800.836914   \n",
      "25%                                    -500.309169   \n",
      "50%                                    -499.612292   \n",
      "75%                                    -400.224147   \n",
      "max                                      -6.506986   \n",
      "\n",
      "        secondary_cleaner.state.floatbank5_a_air  \\\n",
      "count                               22615.000000   \n",
      "unique                                       NaN   \n",
      "top                                          NaN   \n",
      "freq                                         NaN   \n",
      "mean                                   14.883276   \n",
      "std                                     6.372811   \n",
      "min                                    -0.423260   \n",
      "25%                                    10.941299   \n",
      "50%                                    14.859117   \n",
      "75%                                    18.014914   \n",
      "max                                    63.116298   \n",
      "\n",
      "        secondary_cleaner.state.floatbank5_a_level  \\\n",
      "count                                 22615.000000   \n",
      "unique                                         NaN   \n",
      "top                                            NaN   \n",
      "freq                                           NaN   \n",
      "mean                                   -503.323288   \n",
      "std                                      72.925589   \n",
      "min                                    -799.741097   \n",
      "25%                                    -500.628697   \n",
      "50%                                    -499.865158   \n",
      "75%                                    -498.489381   \n",
      "max                                    -244.483566   \n",
      "\n",
      "        secondary_cleaner.state.floatbank5_b_air  \\\n",
      "count                               22615.000000   \n",
      "unique                                       NaN   \n",
      "top                                          NaN   \n",
      "freq                                         NaN   \n",
      "mean                                   11.626743   \n",
      "std                                     5.757449   \n",
      "min                                     0.427084   \n",
      "25%                                     8.037533   \n",
      "50%                                    10.989756   \n",
      "75%                                    14.001193   \n",
      "max                                    39.846228   \n",
      "\n",
      "        secondary_cleaner.state.floatbank5_b_level  \\\n",
      "count                                 22616.000000   \n",
      "unique                                         NaN   \n",
      "top                                            NaN   \n",
      "freq                                           NaN   \n",
      "mean                                   -500.521502   \n",
      "std                                      78.956292   \n",
      "min                                    -800.258209   \n",
      "25%                                    -500.167897   \n",
      "50%                                    -499.951980   \n",
      "75%                                    -499.492354   \n",
      "max                                    -120.190931   \n",
      "\n",
      "        secondary_cleaner.state.floatbank6_a_air  \\\n",
      "count                               22597.000000   \n",
      "unique                                       NaN   \n",
      "top                                          NaN   \n",
      "freq                                         NaN   \n",
      "mean                                   17.976810   \n",
      "std                                     6.636203   \n",
      "min                                    -0.079426   \n",
      "25%                                    13.968418   \n",
      "50%                                    18.004215   \n",
      "75%                                    23.009704   \n",
      "max                                    54.876806   \n",
      "\n",
      "        secondary_cleaner.state.floatbank6_a_level  \n",
      "count                                 22615.000000  \n",
      "unique                                         NaN  \n",
      "top                                            NaN  \n",
      "freq                                           NaN  \n",
      "mean                                   -519.361465  \n",
      "std                                      75.477151  \n",
      "min                                    -810.473526  \n",
      "25%                                    -500.981671  \n",
      "50%                                    -500.095463  \n",
      "75%                                    -499.526388  \n",
      "max                                     -29.093593  \n",
      "\n",
      "[11 rows x 87 columns]\n"
     ]
    }
   ],
   "source": [
    "data_list = [train, test, full]\n",
    "for data in data_list:\n",
    "    print(data.info())\n",
    "    print(data.describe(include='all'))"
   ]
  },
  {
   "cell_type": "markdown",
   "id": "ac6c9b42",
   "metadata": {},
   "source": [
    "## null values"
   ]
  },
  {
   "cell_type": "markdown",
   "id": "2a4fdfe6",
   "metadata": {},
   "source": [
    "let's check for null values, as they give errors in the MAE calculation"
   ]
  },
  {
   "cell_type": "code",
   "execution_count": 4,
   "id": "fe37d542",
   "metadata": {
    "scrolled": true
   },
   "outputs": [
    {
     "data": {
      "text/plain": [
       "date                                            0\n",
       "final.output.concentrate_ag                    72\n",
       "final.output.concentrate_pb                    72\n",
       "final.output.concentrate_sol                  370\n",
       "final.output.concentrate_au                    71\n",
       "                                             ... \n",
       "secondary_cleaner.state.floatbank5_a_level     85\n",
       "secondary_cleaner.state.floatbank5_b_air       85\n",
       "secondary_cleaner.state.floatbank5_b_level     84\n",
       "secondary_cleaner.state.floatbank6_a_air      103\n",
       "secondary_cleaner.state.floatbank6_a_level     85\n",
       "Length: 87, dtype: int64"
      ]
     },
     "execution_count": 4,
     "metadata": {},
     "output_type": "execute_result"
    }
   ],
   "source": [
    "train.isnull().sum()"
   ]
  },
  {
   "cell_type": "markdown",
   "id": "df29d5e2",
   "metadata": {},
   "source": [
    "tried 'ffill' method but it won't get rid of all the NaN values, so instead i decided to just drop them altogether."
   ]
  },
  {
   "cell_type": "code",
   "execution_count": 5,
   "id": "fb331c2f",
   "metadata": {
    "scrolled": true
   },
   "outputs": [],
   "source": [
    "train = train.loc[:,train.columns].dropna()\n",
    "train.isnull().sum()\n",
    "\n",
    "test = test.loc[:, test.columns].dropna()\n",
    "test.isnull().sum()\n",
    "\n",
    "full = full.loc[:,train.columns].dropna()"
   ]
  },
  {
   "cell_type": "markdown",
   "id": "58c86b29",
   "metadata": {},
   "source": [
    "## Check that recovery is calculated correctly. Using the training set, calculate recovery for the rougher.output.recovery feature. Find the MAE between your calculations and the feature values. Provide findings."
   ]
  },
  {
   "cell_type": "code",
   "execution_count": 6,
   "id": "3ec1f65e",
   "metadata": {},
   "outputs": [
    {
     "data": {
      "text/plain": [
       "0        87.107763\n",
       "1        86.843261\n",
       "2        86.842308\n",
       "3        87.226430\n",
       "4        86.688794\n",
       "           ...    \n",
       "16855    89.574376\n",
       "16856    87.724007\n",
       "16857    88.890579\n",
       "16858    89.858126\n",
       "16859    89.514960\n",
       "Length: 11017, dtype: float64"
      ]
     },
     "execution_count": 6,
     "metadata": {},
     "output_type": "execute_result"
    }
   ],
   "source": [
    "C = train['rougher.output.concentrate_au']\n",
    "F = train['rougher.input.feed_au']\n",
    "T = train['rougher.output.tail_au']\n",
    "recovery = pd.Series((C*(F-T)) / (F*(C-T)) * 100 )\n",
    "recovery"
   ]
  },
  {
   "cell_type": "code",
   "execution_count": 7,
   "id": "301192d2",
   "metadata": {},
   "outputs": [],
   "source": [
    "def mae(X,Y):\n",
    "    sigma=0\n",
    "    for a,b in zip(X,Y):\n",
    "        #print(\"a:\", a, \"b:\", b)\n",
    "        sigma+=abs(a-b)\n",
    "        \n",
    "    return sigma/len(X)"
   ]
  },
  {
   "cell_type": "code",
   "execution_count": 8,
   "id": "87cba3f9",
   "metadata": {},
   "outputs": [
    {
     "data": {
      "text/plain": [
       "9.460144184559453e-15"
      ]
     },
     "execution_count": 8,
     "metadata": {},
     "output_type": "execute_result"
    }
   ],
   "source": [
    "\n",
    "mae(train['rougher.output.recovery'], recovery)\n",
    "#train['rougher.output.recovery']\n",
    "#recovery"
   ]
  },
  {
   "cell_type": "markdown",
   "id": "37419ebf",
   "metadata": {},
   "source": [
    "had to drop NaN values as they affected the MAE calculation. but the MAE is so small it looks as though the calculation was done precisely as i have. even the small MAE could've been zero, probably just a small computing error by python."
   ]
  },
  {
   "cell_type": "markdown",
   "id": "eeb0c2a1",
   "metadata": {},
   "source": [
    "## Analyze the features not available in the test set. What are these parameters? What is their type?"
   ]
  },
  {
   "cell_type": "code",
   "execution_count": 9,
   "id": "ed98dcfa",
   "metadata": {},
   "outputs": [
    {
     "data": {
      "text/plain": [
       "['final.output.recovery',\n",
       " 'rougher.output.recovery',\n",
       " 'rougher.output.tail_sol',\n",
       " 'final.output.concentrate_sol',\n",
       " 'secondary_cleaner.output.tail_sol',\n",
       " 'rougher.output.tail_ag',\n",
       " 'final.output.tail_au',\n",
       " 'rougher.calculation.au_pb_ratio',\n",
       " 'rougher.output.tail_pb',\n",
       " 'primary_cleaner.output.concentrate_au',\n",
       " 'final.output.concentrate_pb',\n",
       " 'final.output.tail_ag',\n",
       " 'final.output.concentrate_ag',\n",
       " 'rougher.output.concentrate_sol',\n",
       " 'primary_cleaner.output.tail_au',\n",
       " 'primary_cleaner.output.concentrate_sol',\n",
       " 'primary_cleaner.output.tail_sol',\n",
       " 'rougher.output.concentrate_ag',\n",
       " 'primary_cleaner.output.concentrate_ag',\n",
       " 'secondary_cleaner.output.tail_au',\n",
       " 'rougher.output.tail_au',\n",
       " 'secondary_cleaner.output.tail_ag',\n",
       " 'primary_cleaner.output.tail_pb',\n",
       " 'final.output.tail_pb',\n",
       " 'rougher.calculation.floatbank10_sulfate_to_au_feed',\n",
       " 'rougher.calculation.floatbank11_sulfate_to_au_feed',\n",
       " 'rougher.calculation.sulfate_to_au_concentrate',\n",
       " 'secondary_cleaner.output.tail_pb',\n",
       " 'primary_cleaner.output.tail_ag',\n",
       " 'rougher.output.concentrate_au',\n",
       " 'final.output.tail_sol',\n",
       " 'rougher.output.concentrate_pb',\n",
       " 'primary_cleaner.output.concentrate_pb',\n",
       " 'final.output.concentrate_au']"
      ]
     },
     "execution_count": 9,
     "metadata": {},
     "output_type": "execute_result"
    }
   ],
   "source": [
    "not_in_test = set(train.columns) - set(test.columns)\n",
    "list(not_in_test)"
   ]
  },
  {
   "cell_type": "markdown",
   "id": "9873f052",
   "metadata": {},
   "source": [
    "some parameters are not available because they were measured and/or calculated much later. That's why some of the features that are present in the training set may be absent from the test set. The test set also doesn't contain targets."
   ]
  },
  {
   "cell_type": "markdown",
   "id": "05ee0030",
   "metadata": {},
   "source": [
    "## Perform data preprocessing."
   ]
  },
  {
   "cell_type": "markdown",
   "id": "7d9a5a04",
   "metadata": {},
   "source": [
    "we've already gotten rid of missing values."
   ]
  },
  {
   "cell_type": "markdown",
   "id": "648d50d3",
   "metadata": {},
   "source": [
    "### changing date columns to datetype"
   ]
  },
  {
   "cell_type": "code",
   "execution_count": 10,
   "id": "401eac2c",
   "metadata": {},
   "outputs": [
    {
     "data": {
      "text/plain": [
       "date                                          datetime64[ns]\n",
       "final.output.concentrate_ag                          float64\n",
       "final.output.concentrate_pb                          float64\n",
       "final.output.concentrate_sol                         float64\n",
       "final.output.concentrate_au                          float64\n",
       "                                                   ...      \n",
       "secondary_cleaner.state.floatbank5_a_level           float64\n",
       "secondary_cleaner.state.floatbank5_b_air             float64\n",
       "secondary_cleaner.state.floatbank5_b_level           float64\n",
       "secondary_cleaner.state.floatbank6_a_air             float64\n",
       "secondary_cleaner.state.floatbank6_a_level           float64\n",
       "Length: 87, dtype: object"
      ]
     },
     "execution_count": 10,
     "metadata": {},
     "output_type": "execute_result"
    }
   ],
   "source": [
    "\n",
    "train['date'] = pd.to_datetime(train['date'])\n",
    "test['date'] = pd.to_datetime(test['date'])\n",
    "full['date'] = pd.to_datetime(full['date'])\n",
    "\n",
    "train.dtypes"
   ]
  },
  {
   "cell_type": "markdown",
   "id": "86d85849",
   "metadata": {},
   "source": [
    "### values of concentrations close to zero which should be dropped (outliers)"
   ]
  },
  {
   "cell_type": "code",
   "execution_count": 11,
   "id": "e47e81c9",
   "metadata": {},
   "outputs": [],
   "source": [
    "metals = ['au','ag','pb']\n",
    "columns = ['rougher.output.concentrate_','primary_cleaner.output.concentrate_','final.output.concentrate_']\n",
    "for i,metal in enumerate(metals):\n",
    "    for col in columns:\n",
    "        train.drop(train[train[col+metal] < 2.3].index, inplace=True)\n",
    "        "
   ]
  },
  {
   "cell_type": "markdown",
   "id": "7a830e99",
   "metadata": {},
   "source": [
    "# Analyze the data"
   ]
  },
  {
   "cell_type": "markdown",
   "id": "576b869d",
   "metadata": {},
   "source": [
    "##  Take note of how the concentrations of metals (Au, Ag, Pb) change depending on the purification stage."
   ]
  },
  {
   "cell_type": "code",
   "execution_count": 12,
   "id": "aea81f2c",
   "metadata": {},
   "outputs": [
    {
     "name": "stderr",
     "output_type": "stream",
     "text": [
      "/tmp/ipykernel_31/251366815.py:7: MatplotlibDeprecationWarning: Adding an axes using the same arguments as a previous axes currently reuses the earlier instance.  In a future version, a new instance will always be created and returned.  Meanwhile, this warning can be suppressed, and the future behavior ensured, by passing a unique label to each axes instance.\n",
      "  plt.subplot(3,1,i+1) # subplot(nrows, ncols, index, **kwards)\n"
     ]
    },
    {
     "data": {
      "image/png": "[encoded data removed]",
      "text/plain": [
       "<Figure size 864x432 with 3 Axes>"
      ]
     },
     "metadata": {
      "needs_background": "light"
     },
     "output_type": "display_data"
    }
   ],
   "source": [
    "metals = ['au','ag','pb']\n",
    "columns = ['rougher.output.concentrate_','primary_cleaner.output.concentrate_','final.output.concentrate_']\n",
    "\n",
    "fig = plt.figure(figsize=(12,6))\n",
    "for i,metal in enumerate(metals):\n",
    "    for col in columns:\n",
    "        plt.subplot(3,1,i+1) # subplot(nrows, ncols, index, **kwards)\n",
    "        plt.hist(train[col+metal],bins=100,label=col+metal, alpha=.5)\n",
    "    plt.title(metal)\n",
    "    \n",
    "    plt.legend()\n",
    "\n",
    "plt.tight_layout()\n",
    "plt.xlabel('concentration %')\n",
    "plt.ylabel('density')\n",
    "plt.show()"
   ]
  },
  {
   "cell_type": "markdown",
   "id": "28f2b608",
   "metadata": {},
   "source": [
    "for the au plot looks like smallest concentration is in the rougher stage, increases at the primary cleaner and once more in the final output stage.\n",
    "\n",
    "ag plot - concentrations lower during the primary cleaner stage, and increase again at the final stage. perhaps some of the material is seperated to the tails.\n",
    "\n",
    "pb plot - seems the concentrations throughout different stages overlap a lot which i'm guessing means that most of the extractions of lead happens in the flotation stage.\n",
    "reading a little about lead, i found out that it's been prevalent since ancient times **because** it was easy to extract.\n"
   ]
  },
  {
   "cell_type": "markdown",
   "id": "40b31387",
   "metadata": {},
   "source": [
    "<div class=\"alert alert-success\">\n",
    "<b>Reviewer's comment</b>\n",
    "\n",
    "Ok, makes sense!\n",
    "\n",
    "</div>"
   ]
  },
  {
   "cell_type": "markdown",
   "id": "20a18eac",
   "metadata": {},
   "source": [
    "## Compare the feed particle size distributions in the training set and in the test set. If the distributions vary significantly, the model evaluation will be incorrect."
   ]
  },
  {
   "cell_type": "code",
   "execution_count": 13,
   "id": "f76cb40a",
   "metadata": {},
   "outputs": [
    {
     "data": {
      "image/png": "[encoded data removed]",
      "text/plain": [
       "<Figure size 864x432 with 2 Axes>"
      ]
     },
     "metadata": {
      "needs_background": "light"
     },
     "output_type": "display_data"
    }
   ],
   "source": [
    "columns = ['rougher.input.feed_size','primary_cleaner.input.feed_size']\n",
    "\n",
    "fig = plt.figure(figsize=(12,6))\n",
    "for i,col in enumerate(columns):\n",
    "    plt.subplot(2,1,i+1)\n",
    "    plt.hist(train[col], bins=30, label=col+'_train', alpha=.5, density=1);\n",
    "    plt.hist(test[col],bins=30, label = col+'_test',alpha=.5, density=1);\n",
    "    plt.title(col)\n",
    "    plt.legend()\n",
    "\n",
    "plt.tight_layout()\n",
    "plt.show()"
   ]
  },
  {
   "cell_type": "code",
   "execution_count": 14,
   "id": "c8da2a61",
   "metadata": {},
   "outputs": [
    {
     "name": "stdout",
     "output_type": "stream",
     "text": [
      "rougher.input.feed_size  : 0.235 2.633839934077554e-173\n",
      "primary_cleaner.input.feed_size  : 0.107 3.743890230438988e-36\n"
     ]
    }
   ],
   "source": [
    "from scipy.stats import mannwhitneyu, kstest\n",
    "for i,col in enumerate(columns):\n",
    "    stat, p = kstest(train[col],test[col])\n",
    "    print(col, \" :\", round(stat, 3), p)"
   ]
  },
  {
   "cell_type": "markdown",
   "id": "45a21b1d",
   "metadata": {},
   "source": [
    "so the distances aren't that big, (by the KS test) so we can say the distributions of the feed sizes are similar enough"
   ]
  },
  {
   "cell_type": "markdown",
   "id": "f0322ceb",
   "metadata": {},
   "source": [
    "## Consider the total concentrations of all substances at different stages: raw feed, rougher concentrate, and final concentrate. Do you notice any abnormal values in the total distribution? If you do, is it worth removing such values from both samples? Describe the findings and eliminate anomalies."
   ]
  },
  {
   "cell_type": "code",
   "execution_count": 15,
   "id": "403f42c7",
   "metadata": {},
   "outputs": [],
   "source": [
    "sum1 = train['rougher.input.feed_au']+train['rougher.input.feed_ag']+train['rougher.input.feed_pb']\n",
    "sum2 = train['rougher.output.concentrate_au']+train['rougher.output.concentrate_ag']+train['rougher.output.concentrate_pb']\n",
    "sum3 = train['final.output.concentrate_au']+train['final.output.concentrate_ag']+train['final.output.concentrate_pb']\n",
    "\n"
   ]
  },
  {
   "cell_type": "code",
   "execution_count": 16,
   "id": "fd68faf6",
   "metadata": {},
   "outputs": [
    {
     "data": {
      "image/png": "[encoded data removed]",
      "text/plain": [
       "<Figure size 432x288 with 1 Axes>"
      ]
     },
     "metadata": {
      "needs_background": "light"
     },
     "output_type": "display_data"
    }
   ],
   "source": [
    "sns.kdeplot(sum1, shade='fill')\n",
    "sns.kdeplot(sum2, shade='fill')\n",
    "sns.kdeplot(sum3, shade='fill');"
   ]
  },
  {
   "cell_type": "markdown",
   "id": "55a68143",
   "metadata": {},
   "source": [
    "i've eliminated most of the values that give sums that are close to zero, as they could affect the model training and evaluation.\n",
    "other than that, the blue represents rougher input, orange rougher output, green final output, and this makes sense as we expect the concentrations to grow as the stages of purification progress."
   ]
  },
  {
   "cell_type": "markdown",
   "id": "02991de2",
   "metadata": {},
   "source": [
    "# Build the model"
   ]
  },
  {
   "cell_type": "code",
   "execution_count": 17,
   "id": "a2fc0ee0",
   "metadata": {},
   "outputs": [],
   "source": [
    "x=set(train.columns)\n",
    "y=set(test.columns)\n",
    "z=x.intersection(y)\n",
    "\n",
    "target = ['rougher.output.recovery','final.output.recovery']\n",
    "features = [col for col in z if col not in {'date','rougher.output.recovery', 'final.output.recovery'}  ]"
   ]
  },
  {
   "cell_type": "code",
   "execution_count": 18,
   "id": "3075c716",
   "metadata": {},
   "outputs": [
    {
     "data": {
      "text/plain": [
       "['primary_cleaner.input.depressant',\n",
       " 'primary_cleaner.input.feed_size',\n",
       " 'primary_cleaner.input.sulfate',\n",
       " 'primary_cleaner.input.xanthate',\n",
       " 'primary_cleaner.state.floatbank8_a_air',\n",
       " 'primary_cleaner.state.floatbank8_a_level',\n",
       " 'primary_cleaner.state.floatbank8_b_air',\n",
       " 'primary_cleaner.state.floatbank8_b_level',\n",
       " 'primary_cleaner.state.floatbank8_c_air',\n",
       " 'primary_cleaner.state.floatbank8_c_level',\n",
       " 'primary_cleaner.state.floatbank8_d_air',\n",
       " 'primary_cleaner.state.floatbank8_d_level',\n",
       " 'rougher.input.feed_ag',\n",
       " 'rougher.input.feed_au',\n",
       " 'rougher.input.feed_pb',\n",
       " 'rougher.input.feed_rate',\n",
       " 'rougher.input.feed_size',\n",
       " 'rougher.input.feed_sol',\n",
       " 'rougher.input.floatbank10_sulfate',\n",
       " 'rougher.input.floatbank10_xanthate',\n",
       " 'rougher.input.floatbank11_sulfate',\n",
       " 'rougher.input.floatbank11_xanthate',\n",
       " 'rougher.state.floatbank10_a_air',\n",
       " 'rougher.state.floatbank10_a_level',\n",
       " 'rougher.state.floatbank10_b_air',\n",
       " 'rougher.state.floatbank10_b_level',\n",
       " 'rougher.state.floatbank10_c_air',\n",
       " 'rougher.state.floatbank10_c_level',\n",
       " 'rougher.state.floatbank10_d_air',\n",
       " 'rougher.state.floatbank10_d_level',\n",
       " 'rougher.state.floatbank10_e_air',\n",
       " 'rougher.state.floatbank10_e_level',\n",
       " 'rougher.state.floatbank10_f_air',\n",
       " 'rougher.state.floatbank10_f_level',\n",
       " 'secondary_cleaner.state.floatbank2_a_air',\n",
       " 'secondary_cleaner.state.floatbank2_a_level',\n",
       " 'secondary_cleaner.state.floatbank2_b_air',\n",
       " 'secondary_cleaner.state.floatbank2_b_level',\n",
       " 'secondary_cleaner.state.floatbank3_a_air',\n",
       " 'secondary_cleaner.state.floatbank3_a_level',\n",
       " 'secondary_cleaner.state.floatbank3_b_air',\n",
       " 'secondary_cleaner.state.floatbank3_b_level',\n",
       " 'secondary_cleaner.state.floatbank4_a_air',\n",
       " 'secondary_cleaner.state.floatbank4_a_level',\n",
       " 'secondary_cleaner.state.floatbank4_b_air',\n",
       " 'secondary_cleaner.state.floatbank4_b_level',\n",
       " 'secondary_cleaner.state.floatbank5_a_air',\n",
       " 'secondary_cleaner.state.floatbank5_a_level',\n",
       " 'secondary_cleaner.state.floatbank5_b_air',\n",
       " 'secondary_cleaner.state.floatbank5_b_level',\n",
       " 'secondary_cleaner.state.floatbank6_a_air',\n",
       " 'secondary_cleaner.state.floatbank6_a_level']"
      ]
     },
     "execution_count": 18,
     "metadata": {},
     "output_type": "execute_result"
    }
   ],
   "source": [
    "sorted(features)"
   ]
  },
  {
   "cell_type": "code",
   "execution_count": 19,
   "id": "acb6f209",
   "metadata": {},
   "outputs": [
    {
     "data": {
      "text/plain": [
       "array([[87.10776293, 70.54121591],\n",
       "       [86.84326051, 69.26619763],\n",
       "       [86.84230826, 68.11644507],\n",
       "       ...,\n",
       "       [88.89057853, 67.00218885],\n",
       "       [89.858126  , 65.52324622],\n",
       "       [89.51495973, 70.28145415]])"
      ]
     },
     "execution_count": 19,
     "metadata": {},
     "output_type": "execute_result"
    }
   ],
   "source": [
    "features_train0, features_test0 = train[features].values, test[features].values\n",
    "target_train_r = train[target[0]].values\n",
    "target_train_f = train[target[1]].values\n",
    "target_train_r\n",
    "\n",
    "target_train_both = train[target].values\n",
    "target_train_both"
   ]
  },
  {
   "cell_type": "markdown",
   "id": "e60b159b",
   "metadata": {},
   "source": [
    "##  Write a function to calculate the final sMAPE value."
   ]
  },
  {
   "cell_type": "code",
   "execution_count": 47,
   "id": "51144318",
   "metadata": {},
   "outputs": [],
   "source": [
    "# def smape(y_true, y_pred):\n",
    "#     sigma = 0\n",
    "#     for w,u in zip(y_true, y_pred):\n",
    "#         sigma+=abs(w-u)/np.mean([abs(w),abs(u)])\n",
    "#         #print(f'w is {w} u is {u}')\n",
    "#     return sigma/len(y_true)*100\n",
    "# this is wrong somewhere\n",
    "\n",
    "def smape(y_true, y_pred):\n",
    "    return 200 * np.mean(np.abs(y_true - y_pred)/(np.abs(y_true) + np.abs(y_pred)))\n",
    "\n"
   ]
  },
  {
   "cell_type": "markdown",
   "id": "ea463dfb",
   "metadata": {},
   "source": [
    "## Train different models. Evaluate them using cross-validation. Pick the best model and test it using the test sample. Provide findings."
   ]
  },
  {
   "cell_type": "code",
   "execution_count": 49,
   "id": "d119b215",
   "metadata": {},
   "outputs": [],
   "source": [
    "lr = LinearRegression()"
   ]
  },
  {
   "cell_type": "code",
   "execution_count": 50,
   "id": "62db2892",
   "metadata": {},
   "outputs": [
    {
     "name": "stdout",
     "output_type": "stream",
     "text": [
      "Average model quality score: 4.4364364081907475 (smaller is better)\n"
     ]
    }
   ],
   "source": [
    "scores = []\n",
    "\n",
    "# set the block size if there are only three of them\n",
    "sample_size = int(len(features_train0)/5)\n",
    "\n",
    "for i in range(0, len(features_train0), sample_size):\n",
    "    valid_indexes = list(range(i, i+sample_size))\n",
    "    train_indexes = list(range(0, i)) + list(range(i+sample_size, len(features_train0))) #write an array of indices for the training set\n",
    "    \n",
    "    \n",
    "    features_train = features_train0[train_indexes]\n",
    "    features_valid = features_train0[valid_indexes, :]\n",
    "    target_train = target_train_both[train_indexes]\n",
    "    target_valid = target_train_both[valid_indexes]\n",
    "    model = lr\n",
    "    model.fit(features_train, target_train)\n",
    "    predicted_valid = model.predict(features_valid)\n",
    "    score = 0.25*smape(target_valid[0,:], predicted_valid[0,:]) + 0.75*smape(target_valid[1,:],predicted_valid[1,:]) # < evaluate model quality >\n",
    "    \n",
    "    scores.append(score)\n",
    "    \n",
    "final_score = np.mean(scores)\n",
    "print('Average model quality score:', final_score, \"(smaller is better)\")\n",
    "\n"
   ]
  },
  {
   "cell_type": "markdown",
   "id": "aef0577d",
   "metadata": {},
   "source": [
    "let's see if we can beat 6 with random forest"
   ]
  },
  {
   "cell_type": "code",
   "execution_count": 51,
   "id": "d03294cc",
   "metadata": {
    "scrolled": true
   },
   "outputs": [
    {
     "name": "stdout",
     "output_type": "stream",
     "text": [
      "n_est: 1 Average model quality score: 3.677621004950519 (smaller is better)\n",
      "n_est: 2 Average model quality score: 3.8160853915408466 (smaller is better)\n",
      "n_est: 3 Average model quality score: 3.352256409180794 (smaller is better)\n",
      "n_est: 4 Average model quality score: 4.20969362593515 (smaller is better)\n",
      "n_est: 5 Average model quality score: 4.44286446017249 (smaller is better)\n",
      "n_est: 6 Average model quality score: 4.230828160319578 (smaller is better)\n",
      "n_est: 7 Average model quality score: 4.003882073025439 (smaller is better)\n",
      "n_est: 8 Average model quality score: 4.3173202368210415 (smaller is better)\n"
     ]
    }
   ],
   "source": [
    "for n_est in range(1,9):\n",
    "    \n",
    "    scores = []\n",
    "\n",
    "# set the block size if there are only three of them\n",
    "    sample_size = int(len(features_train0)/5)\n",
    "\n",
    "    for i in range(0, len(features_train0), sample_size):\n",
    "        valid_indexes = list(range(i, i+sample_size))\n",
    "        train_indexes = list(range(0, i)) + list(range(i+sample_size, len(features_train0))) #write an array of indices for the training set\n",
    "    \n",
    "    \n",
    "        features_train = features_train0[train_indexes]\n",
    "        features_valid = features_train0[valid_indexes, :]\n",
    "        target_train = target_train_both[train_indexes]\n",
    "        target_valid = target_train_both[valid_indexes]\n",
    "        model = RandomForestRegressor(n_estimators=n_est, random_state=12345)\n",
    "        model.fit(features_train, target_train)\n",
    "        predicted_valid = model.predict(features_valid)\n",
    "        score = 0.25*smape(target_valid[0,:], predicted_valid[0,:]) + 0.75*smape(target_valid[1,:],predicted_valid[1,:])\n",
    "    \n",
    "        scores.append(score)\n",
    "    \n",
    "    final_score = np.mean(scores)\n",
    "    print(\"n_est:\",n_est,'Average model quality score:', final_score, \"(smaller is better)\")"
   ]
  },
  {
   "cell_type": "markdown",
   "id": "9d6b29bc",
   "metadata": {},
   "source": [
    "n_est = 3 is best, let's check max_depth values"
   ]
  },
  {
   "cell_type": "code",
   "execution_count": 52,
   "id": "01ee22c2",
   "metadata": {},
   "outputs": [
    {
     "name": "stdout",
     "output_type": "stream",
     "text": [
      "depth 1 Average model quality score: 5.631587967756614 (smaller is better)\n",
      "depth 2 Average model quality score: 4.011585068356821 (smaller is better)\n",
      "depth 3 Average model quality score: 3.3756918265912232 (smaller is better)\n",
      "depth 4 Average model quality score: 3.101847441217676 (smaller is better)\n",
      "depth 5 Average model quality score: 3.391873283430436 (smaller is better)\n",
      "depth 6 Average model quality score: 3.5910009182463627 (smaller is better)\n",
      "depth 7 Average model quality score: 3.5741122215135563 (smaller is better)\n"
     ]
    }
   ],
   "source": [
    "for depth in range(1,8):\n",
    "    rfr = RandomForestRegressor(n_estimators=3, max_depth = depth, random_state=12345)\n",
    "    \n",
    "    scores = []\n",
    "\n",
    "# set the block size if there are only three of them\n",
    "    sample_size = int(len(features_train0)/5)\n",
    "\n",
    "    for i in range(0, len(features_train0), sample_size):\n",
    "        valid_indexes = list(range(i, i+sample_size))\n",
    "        train_indexes = list(range(0, i)) + list(range(i+sample_size, len(features_train0))) #write an array of indices for the training set\n",
    "    \n",
    "    \n",
    "        features_train = features_train0[train_indexes]\n",
    "        features_valid = features_train0[valid_indexes,:]\n",
    "        target_train = target_train_both[train_indexes]\n",
    "        target_valid = target_train_both[valid_indexes]\n",
    "        model = rfr\n",
    "        model.fit(features_train, target_train)\n",
    "        predicted_valid = model.predict(features_valid)\n",
    "        score = 0.25*smape(target_valid[0,:], predicted_valid[0,:]) + 0.75*smape(target_valid[1,:],predicted_valid[1,:])\n",
    "    \n",
    "        scores.append(score)\n",
    "    \n",
    "    final_score = np.mean(scores)\n",
    "    print('depth', depth ,'Average model quality score:', final_score, \"(smaller is better)\")"
   ]
  },
  {
   "cell_type": "markdown",
   "id": "2453d5ce",
   "metadata": {},
   "source": [
    "best depth is 4"
   ]
  },
  {
   "cell_type": "code",
   "execution_count": 53,
   "id": "13e7d88b",
   "metadata": {
    "scrolled": true
   },
   "outputs": [
    {
     "name": "stdout",
     "output_type": "stream",
     "text": [
      "['date', 'final.output.recovery', 'primary_cleaner.input.depressant', 'primary_cleaner.input.feed_size', 'primary_cleaner.input.sulfate', 'primary_cleaner.input.xanthate', 'primary_cleaner.state.floatbank8_a_air', 'primary_cleaner.state.floatbank8_a_level', 'primary_cleaner.state.floatbank8_b_air', 'primary_cleaner.state.floatbank8_b_level', 'primary_cleaner.state.floatbank8_c_air', 'primary_cleaner.state.floatbank8_c_level', 'primary_cleaner.state.floatbank8_d_air', 'primary_cleaner.state.floatbank8_d_level', 'rougher.input.feed_ag', 'rougher.input.feed_au', 'rougher.input.feed_pb', 'rougher.input.feed_rate', 'rougher.input.feed_size', 'rougher.input.feed_sol', 'rougher.input.floatbank10_sulfate', 'rougher.input.floatbank10_xanthate', 'rougher.input.floatbank11_sulfate', 'rougher.input.floatbank11_xanthate', 'rougher.output.recovery', 'rougher.state.floatbank10_a_air', 'rougher.state.floatbank10_a_level', 'rougher.state.floatbank10_b_air', 'rougher.state.floatbank10_b_level', 'rougher.state.floatbank10_c_air', 'rougher.state.floatbank10_c_level', 'rougher.state.floatbank10_d_air', 'rougher.state.floatbank10_d_level', 'rougher.state.floatbank10_e_air', 'rougher.state.floatbank10_e_level', 'rougher.state.floatbank10_f_air', 'rougher.state.floatbank10_f_level', 'secondary_cleaner.state.floatbank2_a_air', 'secondary_cleaner.state.floatbank2_a_level', 'secondary_cleaner.state.floatbank2_b_air', 'secondary_cleaner.state.floatbank2_b_level', 'secondary_cleaner.state.floatbank3_a_air', 'secondary_cleaner.state.floatbank3_a_level', 'secondary_cleaner.state.floatbank3_b_air', 'secondary_cleaner.state.floatbank3_b_level', 'secondary_cleaner.state.floatbank4_a_air', 'secondary_cleaner.state.floatbank4_a_level', 'secondary_cleaner.state.floatbank4_b_air', 'secondary_cleaner.state.floatbank4_b_level', 'secondary_cleaner.state.floatbank5_a_air', 'secondary_cleaner.state.floatbank5_a_level', 'secondary_cleaner.state.floatbank5_b_air', 'secondary_cleaner.state.floatbank5_b_level', 'secondary_cleaner.state.floatbank6_a_air', 'secondary_cleaner.state.floatbank6_a_level']\n"
     ]
    }
   ],
   "source": [
    "test1 = test.merge(full[['date']+target], on='date', how='inner')\n",
    "print(sorted(test1.columns))"
   ]
  },
  {
   "cell_type": "code",
   "execution_count": 58,
   "id": "42120049",
   "metadata": {},
   "outputs": [
    {
     "name": "stdout",
     "output_type": "stream",
     "text": [
      "score is 8.722 %\n"
     ]
    }
   ],
   "source": [
    "rfr = RandomForestRegressor(max_depth = 4, n_estimators = 3, random_state=12345).fit(features_train0, target_train_both)\n",
    "predicted_valid = rfr.predict(test1[features])\n",
    "score = 0.25*smape(test1[target[0]], predicted_valid[:,0]) + 0.75*smape(test1[target[1]],predicted_valid[:,1])\n",
    "print(\"score is\", round(score,3), \"%\")\n",
    "\n",
    "\n",
    "\n"
   ]
  },
  {
   "cell_type": "markdown",
   "id": "2354861c",
   "metadata": {},
   "source": [
    "let's compare with a constant model"
   ]
  },
  {
   "cell_type": "code",
   "execution_count": 59,
   "id": "655956c9",
   "metadata": {},
   "outputs": [
    {
     "name": "stdout",
     "output_type": "stream",
     "text": [
      "score is 8.739 %\n"
     ]
    }
   ],
   "source": [
    "from sklearn.dummy import DummyRegressor\n",
    "\n",
    "dummy_regr = DummyRegressor(strategy=\"mean\")\n",
    "dummy_regr.fit(features_train0, target_train_both)\n",
    "\n",
    "predicted_dummy = dummy_regr.predict(test1[features])\n",
    "score = 0.25*smape(test1[target[0]], predicted_dummy[:,0]) + 0.75*smape(test1[target[1]],predicted_dummy[:,1])\n",
    "\n",
    "print(\"score is\", round(score,3), \"%\")"
   ]
  },
  {
   "cell_type": "markdown",
   "id": "ff8d6612",
   "metadata": {},
   "source": [
    "this isn't very good. i'll try linear regressions again"
   ]
  },
  {
   "cell_type": "code",
   "execution_count": 61,
   "id": "0779e7d6",
   "metadata": {},
   "outputs": [
    {
     "name": "stdout",
     "output_type": "stream",
     "text": [
      "score is 8.138 %\n"
     ]
    }
   ],
   "source": [
    "model = lr\n",
    "model.fit(features_train0, target_train_both)\n",
    "predicted_valid = model.predict(test1[features])\n",
    "score = 0.25*smape(test1[target[0]], predicted_valid[:,0]) + 0.75*smape(test1[target[1]],predicted_valid[:,1])\n",
    "print(\"score is\", round(score,3), \"%\")"
   ]
  },
  {
   "cell_type": "markdown",
   "id": "1d9bed9f",
   "metadata": {},
   "source": [
    "guess the linear regression is better, but not significantly."
   ]
  }
 ],
 "metadata": {
  "ExecuteTimeLog": [
   {
    "duration": 1741,
    "start_time": "2022-07-20T10:33:59.415Z"
   },
   {
    "duration": 4401,
    "start_time": "2022-07-20T10:34:01.158Z"
   },
   {
    "duration": 746,
    "start_time": "2022-07-20T10:34:05.561Z"
   },
   {
    "duration": 29,
    "start_time": "2022-07-20T10:34:06.309Z"
   },
   {
    "duration": 56,
    "start_time": "2022-07-20T10:34:06.348Z"
   },
   {
    "duration": 9,
    "start_time": "2022-07-20T10:34:11.104Z"
   },
   {
    "duration": 4,
    "start_time": "2022-07-20T10:34:11.357Z"
   },
   {
    "duration": 11,
    "start_time": "2022-07-20T10:34:12.032Z"
   },
   {
    "duration": 6,
    "start_time": "2022-07-20T10:34:13.162Z"
   },
   {
    "duration": 13,
    "start_time": "2022-07-20T10:34:15.006Z"
   },
   {
    "duration": 32,
    "start_time": "2022-07-20T10:34:15.443Z"
   },
   {
    "duration": 2418,
    "start_time": "2022-07-20T10:34:16.537Z"
   },
   {
    "duration": 810,
    "start_time": "2022-07-20T10:34:18.958Z"
   },
   {
    "duration": 19,
    "start_time": "2022-07-20T10:34:19.769Z"
   },
   {
    "duration": 5,
    "start_time": "2022-07-20T10:34:20.190Z"
   },
   {
    "duration": 777,
    "start_time": "2022-07-20T10:34:20.869Z"
   },
   {
    "duration": 4,
    "start_time": "2022-07-20T10:34:22.423Z"
   },
   {
    "duration": 5,
    "start_time": "2022-07-20T10:34:27.461Z"
   },
   {
    "duration": 5,
    "start_time": "2022-07-20T10:34:42.940Z"
   },
   {
    "duration": 11,
    "start_time": "2022-07-20T10:34:58.655Z"
   },
   {
    "duration": 4,
    "start_time": "2022-07-20T10:35:02.108Z"
   },
   {
    "duration": 129,
    "start_time": "2022-07-20T10:35:59.153Z"
   },
   {
    "duration": 98,
    "start_time": "2022-07-20T10:36:03.566Z"
   },
   {
    "duration": 182,
    "start_time": "2022-07-20T10:36:25.615Z"
   },
   {
    "duration": 1597,
    "start_time": "2022-07-20T11:03:39.047Z"
   },
   {
    "duration": 1336,
    "start_time": "2022-07-20T11:03:40.646Z"
   },
   {
    "duration": 683,
    "start_time": "2022-07-20T11:03:41.984Z"
   },
   {
    "duration": 11,
    "start_time": "2022-07-20T11:03:42.669Z"
   },
   {
    "duration": 64,
    "start_time": "2022-07-20T11:03:42.681Z"
   },
   {
    "duration": 8,
    "start_time": "2022-07-20T11:03:42.747Z"
   },
   {
    "duration": 3,
    "start_time": "2022-07-20T11:03:42.757Z"
   },
   {
    "duration": 12,
    "start_time": "2022-07-20T11:03:42.761Z"
   },
   {
    "duration": 26,
    "start_time": "2022-07-20T11:03:42.774Z"
   },
   {
    "duration": 15,
    "start_time": "2022-07-20T11:03:42.803Z"
   },
   {
    "duration": 43,
    "start_time": "2022-07-20T11:03:46.601Z"
   },
   {
    "duration": 125,
    "start_time": "2022-07-20T11:13:47.420Z"
   },
   {
    "duration": 4,
    "start_time": "2022-07-20T11:13:52.356Z"
   },
   {
    "duration": 852,
    "start_time": "2022-07-20T11:13:52.370Z"
   },
   {
    "duration": 701,
    "start_time": "2022-07-20T11:13:53.224Z"
   },
   {
    "duration": 9,
    "start_time": "2022-07-20T11:13:53.927Z"
   },
   {
    "duration": 40,
    "start_time": "2022-07-20T11:13:53.939Z"
   },
   {
    "duration": 26,
    "start_time": "2022-07-20T11:13:53.981Z"
   },
   {
    "duration": 20,
    "start_time": "2022-07-20T11:13:54.011Z"
   },
   {
    "duration": 12,
    "start_time": "2022-07-20T11:13:54.033Z"
   },
   {
    "duration": 10,
    "start_time": "2022-07-20T11:13:54.047Z"
   },
   {
    "duration": 18,
    "start_time": "2022-07-20T11:13:54.059Z"
   },
   {
    "duration": 54,
    "start_time": "2022-07-20T11:13:54.081Z"
   },
   {
    "duration": 2412,
    "start_time": "2022-07-20T11:13:54.138Z"
   },
   {
    "duration": 738,
    "start_time": "2022-07-20T11:13:56.552Z"
   },
   {
    "duration": 20,
    "start_time": "2022-07-20T11:13:57.292Z"
   },
   {
    "duration": 6,
    "start_time": "2022-07-20T11:13:57.315Z"
   },
   {
    "duration": 897,
    "start_time": "2022-07-20T11:13:57.323Z"
   },
   {
    "duration": 4,
    "start_time": "2022-07-20T11:13:58.222Z"
   },
   {
    "duration": 9,
    "start_time": "2022-07-20T11:13:58.227Z"
   },
   {
    "duration": 18,
    "start_time": "2022-07-20T11:13:58.238Z"
   },
   {
    "duration": 5,
    "start_time": "2022-07-20T11:13:58.258Z"
   },
   {
    "duration": 213,
    "start_time": "2022-07-20T11:13:58.264Z"
   },
   {
    "duration": 433,
    "start_time": "2022-07-20T11:13:58.479Z"
   },
   {
    "duration": 93,
    "start_time": "2022-07-20T11:13:58.916Z"
   },
   {
    "duration": 0,
    "start_time": "2022-07-20T11:13:59.011Z"
   },
   {
    "duration": 910,
    "start_time": "2022-07-20T11:14:46.062Z"
   },
   {
    "duration": 15926,
    "start_time": "2022-07-20T11:14:48.697Z"
   },
   {
    "duration": 817,
    "start_time": "2022-07-20T11:15:55.391Z"
   },
   {
    "duration": 1504,
    "start_time": "2022-07-20T11:50:00.910Z"
   },
   {
    "duration": 9,
    "start_time": "2022-07-20T11:50:32.787Z"
   },
   {
    "duration": 9,
    "start_time": "2022-07-20T11:50:37.043Z"
   },
   {
    "duration": 2234,
    "start_time": "2022-07-20T11:50:49.686Z"
   },
   {
    "duration": 891,
    "start_time": "2022-07-20T11:51:13.266Z"
   },
   {
    "duration": 234141,
    "start_time": "2022-07-20T11:51:47.379Z"
   },
   {
    "duration": 279,
    "start_time": "2022-07-20T11:56:15.246Z"
   },
   {
    "duration": 29304,
    "start_time": "2022-07-20T11:56:22.534Z"
   },
   {
    "duration": 26502,
    "start_time": "2022-07-20T11:58:46.276Z"
   },
   {
    "duration": 10447,
    "start_time": "2022-07-20T11:59:46.495Z"
   },
   {
    "duration": 2635,
    "start_time": "2022-07-20T12:00:08.363Z"
   },
   {
    "duration": 57995,
    "start_time": "2022-07-20T12:00:14.839Z"
   },
   {
    "duration": 86279,
    "start_time": "2022-07-20T12:01:34.670Z"
   },
   {
    "duration": 16091,
    "start_time": "2022-07-20T12:03:19.052Z"
   },
   {
    "duration": 111,
    "start_time": "2022-07-20T12:03:51.592Z"
   },
   {
    "duration": 73324,
    "start_time": "2022-07-20T12:04:09.919Z"
   },
   {
    "duration": 667,
    "start_time": "2022-07-20T12:05:28.238Z"
   },
   {
    "duration": 247,
    "start_time": "2022-07-20T12:08:09.884Z"
   },
   {
    "duration": 109,
    "start_time": "2022-07-20T12:09:09.449Z"
   },
   {
    "duration": 102,
    "start_time": "2022-07-20T12:10:25.167Z"
   },
   {
    "duration": 50,
    "start_time": "2022-07-20T12:10:31.389Z"
   },
   {
    "duration": 37,
    "start_time": "2022-07-20T12:11:07.119Z"
   },
   {
    "duration": 39,
    "start_time": "2022-07-20T12:11:13.791Z"
   },
   {
    "duration": 2942,
    "start_time": "2022-07-20T12:11:38.041Z"
   },
   {
    "duration": 5,
    "start_time": "2022-07-20T12:11:55.815Z"
   },
   {
    "duration": 1051,
    "start_time": "2022-07-20T12:11:55.822Z"
   },
   {
    "duration": 1030,
    "start_time": "2022-07-20T12:11:56.876Z"
   },
   {
    "duration": 13,
    "start_time": "2022-07-20T12:11:57.909Z"
   },
   {
    "duration": 60,
    "start_time": "2022-07-20T12:11:57.924Z"
   },
   {
    "duration": 9,
    "start_time": "2022-07-20T12:11:57.986Z"
   },
   {
    "duration": 50,
    "start_time": "2022-07-20T12:11:57.997Z"
   },
   {
    "duration": 12,
    "start_time": "2022-07-20T12:11:58.049Z"
   },
   {
    "duration": 8,
    "start_time": "2022-07-20T12:11:58.063Z"
   },
   {
    "duration": 15,
    "start_time": "2022-07-20T12:11:58.073Z"
   },
   {
    "duration": 39,
    "start_time": "2022-07-20T12:11:58.091Z"
   },
   {
    "duration": 2759,
    "start_time": "2022-07-20T12:11:58.133Z"
   },
   {
    "duration": 762,
    "start_time": "2022-07-20T12:12:00.894Z"
   },
   {
    "duration": 18,
    "start_time": "2022-07-20T12:12:01.658Z"
   },
   {
    "duration": 7,
    "start_time": "2022-07-20T12:12:01.678Z"
   },
   {
    "duration": 788,
    "start_time": "2022-07-20T12:12:01.704Z"
   },
   {
    "duration": 3,
    "start_time": "2022-07-20T12:12:02.494Z"
   },
   {
    "duration": 48,
    "start_time": "2022-07-20T12:12:02.503Z"
   },
   {
    "duration": 16,
    "start_time": "2022-07-20T12:12:02.553Z"
   },
   {
    "duration": 7,
    "start_time": "2022-07-20T12:12:02.571Z"
   },
   {
    "duration": 233,
    "start_time": "2022-07-20T12:12:02.579Z"
   },
   {
    "duration": 4,
    "start_time": "2022-07-20T12:12:02.814Z"
   },
   {
    "duration": 2792,
    "start_time": "2022-07-20T12:12:02.820Z"
   },
   {
    "duration": 1052,
    "start_time": "2022-07-20T12:12:05.625Z"
   },
   {
    "duration": 77005,
    "start_time": "2022-07-20T12:12:06.680Z"
   },
   {
    "duration": 17300,
    "start_time": "2022-07-20T12:13:23.687Z"
   },
   {
    "duration": 18,
    "start_time": "2022-07-20T12:13:40.989Z"
   },
   {
    "duration": 2370,
    "start_time": "2022-07-20T12:13:45.770Z"
   },
   {
    "duration": 6,
    "start_time": "2022-07-20T12:14:16.175Z"
   },
   {
    "duration": 1013,
    "start_time": "2022-07-20T12:14:16.226Z"
   },
   {
    "duration": 799,
    "start_time": "2022-07-20T12:14:17.242Z"
   },
   {
    "duration": 14,
    "start_time": "2022-07-20T12:14:18.043Z"
   },
   {
    "duration": 77,
    "start_time": "2022-07-20T12:14:18.060Z"
   },
   {
    "duration": 9,
    "start_time": "2022-07-20T12:14:18.140Z"
   },
   {
    "duration": 6,
    "start_time": "2022-07-20T12:14:18.151Z"
   },
   {
    "duration": 10,
    "start_time": "2022-07-20T12:14:18.159Z"
   },
   {
    "duration": 10,
    "start_time": "2022-07-20T12:14:18.170Z"
   },
   {
    "duration": 24,
    "start_time": "2022-07-20T12:14:18.182Z"
   },
   {
    "duration": 64,
    "start_time": "2022-07-20T12:14:18.209Z"
   },
   {
    "duration": 2739,
    "start_time": "2022-07-20T12:14:18.275Z"
   },
   {
    "duration": 854,
    "start_time": "2022-07-20T12:14:21.016Z"
   },
   {
    "duration": 26,
    "start_time": "2022-07-20T12:14:21.872Z"
   },
   {
    "duration": 7,
    "start_time": "2022-07-20T12:14:21.904Z"
   },
   {
    "duration": 854,
    "start_time": "2022-07-20T12:14:21.913Z"
   },
   {
    "duration": 4,
    "start_time": "2022-07-20T12:14:22.769Z"
   },
   {
    "duration": 8,
    "start_time": "2022-07-20T12:14:22.774Z"
   },
   {
    "duration": 15,
    "start_time": "2022-07-20T12:14:22.784Z"
   },
   {
    "duration": 18,
    "start_time": "2022-07-20T12:14:22.803Z"
   },
   {
    "duration": 234,
    "start_time": "2022-07-20T12:14:22.823Z"
   },
   {
    "duration": 23,
    "start_time": "2022-07-20T12:14:34.373Z"
   },
   {
    "duration": 3534,
    "start_time": "2022-07-20T12:14:37.295Z"
   },
   {
    "duration": 7,
    "start_time": "2022-07-20T12:15:53.956Z"
   },
   {
    "duration": 1060,
    "start_time": "2022-07-20T12:15:53.965Z"
   },
   {
    "duration": 790,
    "start_time": "2022-07-20T12:15:55.028Z"
   },
   {
    "duration": 12,
    "start_time": "2022-07-20T12:15:55.819Z"
   },
   {
    "duration": 58,
    "start_time": "2022-07-20T12:15:55.833Z"
   },
   {
    "duration": 10,
    "start_time": "2022-07-20T12:15:55.892Z"
   },
   {
    "duration": 44,
    "start_time": "2022-07-20T12:15:55.904Z"
   },
   {
    "duration": 17,
    "start_time": "2022-07-20T12:15:55.950Z"
   },
   {
    "duration": 6,
    "start_time": "2022-07-20T12:15:55.969Z"
   },
   {
    "duration": 15,
    "start_time": "2022-07-20T12:15:55.977Z"
   },
   {
    "duration": 53,
    "start_time": "2022-07-20T12:15:55.994Z"
   },
   {
    "duration": 2818,
    "start_time": "2022-07-20T12:15:56.049Z"
   },
   {
    "duration": 751,
    "start_time": "2022-07-20T12:15:58.869Z"
   },
   {
    "duration": 20,
    "start_time": "2022-07-20T12:15:59.622Z"
   },
   {
    "duration": 36,
    "start_time": "2022-07-20T12:15:59.644Z"
   },
   {
    "duration": 977,
    "start_time": "2022-07-20T12:15:59.683Z"
   },
   {
    "duration": 4,
    "start_time": "2022-07-20T12:16:00.661Z"
   },
   {
    "duration": 14,
    "start_time": "2022-07-20T12:16:00.667Z"
   },
   {
    "duration": 25,
    "start_time": "2022-07-20T12:16:00.682Z"
   },
   {
    "duration": 43,
    "start_time": "2022-07-20T12:16:00.709Z"
   },
   {
    "duration": 219,
    "start_time": "2022-07-20T12:16:00.754Z"
   },
   {
    "duration": 23,
    "start_time": "2022-07-20T12:16:07.988Z"
   },
   {
    "duration": 23,
    "start_time": "2022-07-20T12:16:26.763Z"
   },
   {
    "duration": 588,
    "start_time": "2022-07-20T12:16:36.078Z"
   },
   {
    "duration": 552,
    "start_time": "2022-07-20T12:17:31.041Z"
   },
   {
    "duration": 537,
    "start_time": "2022-07-20T12:17:40.939Z"
   },
   {
    "duration": 620,
    "start_time": "2022-07-20T12:20:07.125Z"
   },
   {
    "duration": 611,
    "start_time": "2022-07-20T12:20:48.049Z"
   },
   {
    "duration": 591,
    "start_time": "2022-07-20T12:21:02.402Z"
   },
   {
    "duration": 1516,
    "start_time": "2022-07-21T09:46:01.409Z"
   },
   {
    "duration": 1495,
    "start_time": "2022-07-21T09:46:02.926Z"
   },
   {
    "duration": 601,
    "start_time": "2022-07-21T09:46:04.441Z"
   },
   {
    "duration": 16,
    "start_time": "2022-07-21T09:46:05.311Z"
   },
   {
    "duration": 50,
    "start_time": "2022-07-21T09:46:07.967Z"
   },
   {
    "duration": 8,
    "start_time": "2022-07-21T09:46:12.620Z"
   },
   {
    "duration": 3,
    "start_time": "2022-07-21T09:46:12.849Z"
   },
   {
    "duration": 5,
    "start_time": "2022-07-21T09:46:13.763Z"
   },
   {
    "duration": 4,
    "start_time": "2022-07-21T09:46:15.470Z"
   },
   {
    "duration": 19,
    "start_time": "2022-07-21T09:46:19.304Z"
   },
   {
    "duration": 35,
    "start_time": "2022-07-21T09:46:20.781Z"
   },
   {
    "duration": 1984,
    "start_time": "2022-07-21T09:46:22.080Z"
   },
   {
    "duration": 747,
    "start_time": "2022-07-21T09:46:24.066Z"
   },
   {
    "duration": 19,
    "start_time": "2022-07-21T09:46:24.814Z"
   },
   {
    "duration": 6,
    "start_time": "2022-07-21T09:46:24.834Z"
   },
   {
    "duration": 752,
    "start_time": "2022-07-21T09:46:25.725Z"
   },
   {
    "duration": 3,
    "start_time": "2022-07-21T09:46:27.225Z"
   },
   {
    "duration": 5,
    "start_time": "2022-07-21T09:46:27.974Z"
   },
   {
    "duration": 10,
    "start_time": "2022-07-21T09:46:29.390Z"
   },
   {
    "duration": 5,
    "start_time": "2022-07-21T09:46:40.674Z"
   },
   {
    "duration": 156,
    "start_time": "2022-07-21T09:47:00.601Z"
   },
   {
    "duration": 26,
    "start_time": "2022-07-21T09:47:12.573Z"
   },
   {
    "duration": 500,
    "start_time": "2022-07-21T09:47:13.832Z"
   },
   {
    "duration": 29,
    "start_time": "2022-07-21T09:47:20.340Z"
   },
   {
    "duration": 36,
    "start_time": "2022-07-21T09:47:23.717Z"
   },
   {
    "duration": 25,
    "start_time": "2022-07-21T09:47:33.263Z"
   },
   {
    "duration": 4,
    "start_time": "2022-07-21T09:47:50.070Z"
   },
   {
    "duration": 24,
    "start_time": "2022-07-21T09:47:58.527Z"
   },
   {
    "duration": 5,
    "start_time": "2022-07-21T09:48:21.566Z"
   },
   {
    "duration": 5,
    "start_time": "2022-07-21T09:48:46.479Z"
   },
   {
    "duration": 7,
    "start_time": "2022-07-21T09:49:04.331Z"
   },
   {
    "duration": 147,
    "start_time": "2022-07-21T09:50:30.386Z"
   },
   {
    "duration": 9,
    "start_time": "2022-07-21T09:50:33.232Z"
   },
   {
    "duration": 98,
    "start_time": "2022-07-21T09:50:39.196Z"
   },
   {
    "duration": 16,
    "start_time": "2022-07-21T09:50:40.699Z"
   },
   {
    "duration": 6,
    "start_time": "2022-07-21T09:50:44.516Z"
   },
   {
    "duration": 9,
    "start_time": "2022-07-21T09:50:54.530Z"
   },
   {
    "duration": 5,
    "start_time": "2022-07-21T09:50:57.235Z"
   },
   {
    "duration": 4,
    "start_time": "2022-07-21T09:52:38.789Z"
   },
   {
    "duration": 16,
    "start_time": "2022-07-21T09:52:54.671Z"
   },
   {
    "duration": 13,
    "start_time": "2022-07-21T09:53:19.898Z"
   },
   {
    "duration": 16,
    "start_time": "2022-07-21T09:53:31.515Z"
   },
   {
    "duration": 498,
    "start_time": "2022-07-21T09:53:32.170Z"
   },
   {
    "duration": 3,
    "start_time": "2022-07-21T09:53:33.919Z"
   },
   {
    "duration": 8,
    "start_time": "2022-07-21T09:53:35.689Z"
   },
   {
    "duration": 5,
    "start_time": "2022-07-21T09:53:36.924Z"
   },
   {
    "duration": 5,
    "start_time": "2022-07-21T09:53:37.526Z"
   },
   {
    "duration": 10,
    "start_time": "2022-07-21T09:53:37.945Z"
   },
   {
    "duration": 18,
    "start_time": "2022-07-21T09:53:39.424Z"
   },
   {
    "duration": 45,
    "start_time": "2022-07-21T09:54:36.064Z"
   },
   {
    "duration": 26,
    "start_time": "2022-07-21T09:54:45.461Z"
   },
   {
    "duration": 511,
    "start_time": "2022-07-21T09:54:57.545Z"
   },
   {
    "duration": 28,
    "start_time": "2022-07-21T09:55:07.062Z"
   },
   {
    "duration": 11,
    "start_time": "2022-07-21T09:55:20.331Z"
   },
   {
    "duration": 19,
    "start_time": "2022-07-21T09:55:25.175Z"
   },
   {
    "duration": 4,
    "start_time": "2022-07-21T09:55:46.217Z"
   },
   {
    "duration": 4,
    "start_time": "2022-07-21T09:55:53.959Z"
   },
   {
    "duration": 5,
    "start_time": "2022-07-21T09:56:00.837Z"
   },
   {
    "duration": 9,
    "start_time": "2022-07-21T09:56:47.017Z"
   },
   {
    "duration": 500,
    "start_time": "2022-07-21T09:56:50.619Z"
   },
   {
    "duration": 4,
    "start_time": "2022-07-21T09:56:52.135Z"
   },
   {
    "duration": 5,
    "start_time": "2022-07-21T09:56:53.588Z"
   },
   {
    "duration": 3,
    "start_time": "2022-07-21T09:56:54.183Z"
   },
   {
    "duration": 5,
    "start_time": "2022-07-21T09:56:55.157Z"
   },
   {
    "duration": 10,
    "start_time": "2022-07-21T09:56:55.773Z"
   },
   {
    "duration": 5,
    "start_time": "2022-07-21T09:56:56.778Z"
   },
   {
    "duration": 24,
    "start_time": "2022-07-21T10:01:58.956Z"
   },
   {
    "duration": 555,
    "start_time": "2022-07-21T10:02:01.706Z"
   },
   {
    "duration": 1667,
    "start_time": "2022-07-22T08:32:02.641Z"
   },
   {
    "duration": 1412,
    "start_time": "2022-07-22T08:32:04.310Z"
   },
   {
    "duration": 695,
    "start_time": "2022-07-22T08:32:05.723Z"
   },
   {
    "duration": 12,
    "start_time": "2022-07-22T08:32:06.420Z"
   },
   {
    "duration": 71,
    "start_time": "2022-07-22T08:32:06.433Z"
   },
   {
    "duration": 10,
    "start_time": "2022-07-22T08:32:06.506Z"
   },
   {
    "duration": 17,
    "start_time": "2022-07-22T08:32:06.518Z"
   },
   {
    "duration": 19,
    "start_time": "2022-07-22T08:32:06.538Z"
   },
   {
    "duration": 11,
    "start_time": "2022-07-22T08:32:06.560Z"
   },
   {
    "duration": 24,
    "start_time": "2022-07-22T08:32:06.574Z"
   },
   {
    "duration": 48,
    "start_time": "2022-07-22T08:32:06.600Z"
   },
   {
    "duration": 2455,
    "start_time": "2022-07-22T08:32:06.651Z"
   },
   {
    "duration": 644,
    "start_time": "2022-07-22T08:32:09.109Z"
   },
   {
    "duration": 15,
    "start_time": "2022-07-22T08:32:09.754Z"
   },
   {
    "duration": 6,
    "start_time": "2022-07-22T08:32:09.771Z"
   },
   {
    "duration": 736,
    "start_time": "2022-07-22T08:32:09.779Z"
   },
   {
    "duration": 3,
    "start_time": "2022-07-22T08:32:10.517Z"
   },
   {
    "duration": 8,
    "start_time": "2022-07-22T08:32:10.521Z"
   },
   {
    "duration": 11,
    "start_time": "2022-07-22T08:32:10.531Z"
   },
   {
    "duration": 8,
    "start_time": "2022-07-22T08:32:10.544Z"
   },
   {
    "duration": 6,
    "start_time": "2022-07-22T08:32:10.554Z"
   },
   {
    "duration": 128,
    "start_time": "2022-07-22T08:32:10.561Z"
   },
   {
    "duration": 0,
    "start_time": "2022-07-22T08:32:10.691Z"
   },
   {
    "duration": 0,
    "start_time": "2022-07-22T08:32:10.692Z"
   },
   {
    "duration": 0,
    "start_time": "2022-07-22T08:32:10.693Z"
   },
   {
    "duration": 12,
    "start_time": "2022-07-22T08:32:45.140Z"
   },
   {
    "duration": 18,
    "start_time": "2022-07-22T08:33:06.666Z"
   },
   {
    "duration": 1961,
    "start_time": "2022-07-22T08:34:11.850Z"
   },
   {
    "duration": 900,
    "start_time": "2022-07-22T08:34:25.062Z"
   },
   {
    "duration": 70329,
    "start_time": "2022-07-22T08:34:28.137Z"
   },
   {
    "duration": 12221,
    "start_time": "2022-07-22T08:35:58.134Z"
   },
   {
    "duration": 13,
    "start_time": "2022-07-22T08:36:55.177Z"
   },
   {
    "duration": 457,
    "start_time": "2022-07-22T08:37:12.096Z"
   },
   {
    "duration": 485,
    "start_time": "2022-07-22T08:38:56.421Z"
   },
   {
    "duration": 353,
    "start_time": "2022-07-22T08:40:25.301Z"
   },
   {
    "duration": 456,
    "start_time": "2022-07-22T08:40:36.667Z"
   },
   {
    "duration": 4,
    "start_time": "2022-07-22T08:43:09.869Z"
   },
   {
    "duration": 6,
    "start_time": "2022-07-22T08:43:14.368Z"
   },
   {
    "duration": 1398,
    "start_time": "2022-07-22T08:43:28.121Z"
   },
   {
    "duration": 4,
    "start_time": "2022-07-22T08:43:52.035Z"
   },
   {
    "duration": 4,
    "start_time": "2022-07-22T08:43:55.010Z"
   },
   {
    "duration": 1756,
    "start_time": "2022-07-22T08:43:56.157Z"
   },
   {
    "duration": 70177,
    "start_time": "2022-07-22T08:44:04.042Z"
   },
   {
    "duration": 11619,
    "start_time": "2022-07-22T08:45:52.706Z"
   },
   {
    "duration": 462,
    "start_time": "2022-07-22T08:46:37.013Z"
   },
   {
    "duration": 11,
    "start_time": "2022-07-22T08:47:27.846Z"
   },
   {
    "duration": 424,
    "start_time": "2022-07-22T08:47:29.710Z"
   },
   {
    "duration": 414,
    "start_time": "2022-07-22T08:49:13.937Z"
   },
   {
    "duration": 3,
    "start_time": "2022-07-22T08:49:39.638Z"
   },
   {
    "duration": 3,
    "start_time": "2022-07-22T08:49:41.328Z"
   },
   {
    "duration": 2,
    "start_time": "2022-07-22T08:49:42.053Z"
   },
   {
    "duration": 1124,
    "start_time": "2022-07-22T08:49:42.789Z"
   },
   {
    "duration": 69311,
    "start_time": "2022-07-22T08:49:59.647Z"
   },
   {
    "duration": 12061,
    "start_time": "2022-07-22T08:51:19.492Z"
   },
   {
    "duration": 12,
    "start_time": "2022-07-22T08:51:33.521Z"
   },
   {
    "duration": 450,
    "start_time": "2022-07-22T08:51:36.994Z"
   },
   {
    "duration": 437,
    "start_time": "2022-07-22T08:51:53.247Z"
   },
   {
    "duration": 437,
    "start_time": "2022-07-22T08:54:19.854Z"
   },
   {
    "duration": 120,
    "start_time": "2022-07-22T08:54:30.723Z"
   },
   {
    "duration": 450,
    "start_time": "2022-07-22T08:54:34.944Z"
   },
   {
    "duration": 10,
    "start_time": "2022-07-22T08:58:48.931Z"
   },
   {
    "duration": 43,
    "start_time": "2022-07-22T09:04:38.666Z"
   },
   {
    "duration": 179,
    "start_time": "2022-07-22T09:04:46.925Z"
   }
  ],
  "kernelspec": {
   "display_name": "Python 3 (ipykernel)",
   "language": "python",
   "name": "python3"
  },
  "language_info": {
   "codemirror_mode": {
    "name": "ipython",
    "version": 3
   },
   "file_extension": ".py",
   "mimetype": "text/x-python",
   "name": "python",
   "nbconvert_exporter": "python",
   "pygments_lexer": "ipython3",
   "version": "3.8.8"
  },
  "toc": {
   "base_numbering": 1,
   "nav_menu": {},
   "number_sections": true,
   "sideBar": true,
   "skip_h1_title": false,
   "title_cell": "Table of Contents",
   "title_sidebar": "Contents",
   "toc_cell": false,
   "toc_position": {
    "height": "calc(100% - 180px)",
    "left": "10px",
    "top": "150px",
    "width": "181.733px"
   },
   "toc_section_display": true,
   "toc_window_display": true
  }
 },
 "nbformat": 4,
 "nbformat_minor": 5
}
